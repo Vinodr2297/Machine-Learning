{
 "cells": [
  {
   "cell_type": "markdown",
   "metadata": {},
   "source": [
    "# Objective:\n",
    "### Using the features of a loan dataset to classify the loan taken by the person as good or bad"
   ]
  },
  {
   "cell_type": "markdown",
   "metadata": {},
   "source": [
    " it's a classification Use case , so let's define cost first !\n",
    "    \n",
    "    True positives are Target column with value = good .\n",
    "    True Negatives are Target column with value = bad .\n",
    "    \n",
    "    1 . a single False Positive result's in : \n",
    "            actual value    : risk is there (bad) .\n",
    "            model predicts  : no risk (good) .\n",
    "                \n",
    "           *  so cost the is  lender may end up in giving loan to the applicant whose is not capable of paying it properly . \n",
    "    \n",
    "    2 . a single False Negative result's in :\n",
    "            actual value    : no risk (good) .\n",
    "            model predicts  : risk is there (bad) .\n",
    "                \n",
    "            \n",
    "           *  so cost the is lender may end up in not giving loan to the applicant whose is  capable of paying it properly ,\n",
    "              which i inturn loses his business profit  .\n",
    "            \n",
    " * so my point here is , we should build model with low FP and FN values , so i'll choosing f1-score as my performance metrics since \n",
    "   it's combo of recall and precision . \n",
    "        \n",
    "        \n",
    "            \n",
    "                "
   ]
  },
  {
   "cell_type": "markdown",
   "metadata": {},
   "source": [
    "# Overview : \n",
    "\n",
    "* Importing libraries\n",
    "* reading data\n",
    "* Data Preprocessing\n",
    "* EDA \n",
    "    * Univariate Analysis \n",
    "    * Bivariate  Analysis \n",
    "* Feature Engineering \n",
    "* Feature Scaling \n",
    "* Model Building \n",
    "* Conclusion \n",
    "* Saving Model Locally "
   ]
  },
  {
   "cell_type": "markdown",
   "metadata": {},
   "source": [
    "# Importing libraries"
   ]
  },
  {
   "cell_type": "code",
   "execution_count": 151,
   "metadata": {},
   "outputs": [],
   "source": [
    "import pandas as pd\n",
    "import numpy as np\n",
    "import seaborn as sns\n",
    "import matplotlib.pyplot as plt\n",
    "from imblearn.over_sampling import SMOTE\n",
    "from sklearn.metrics import accuracy_score,recall_score,precision_score,f1_score,confusion_matrix,classification_report\n",
    "from sklearn import svm\n",
    "from xgboost import XGBClassifier\n",
    "import warnings\n",
    "warnings.filterwarnings('ignore')\n",
    "%matplotlib inline\n",
    "#sns.set_style(\"darkgrid\")\n",
    "plt.style.use('fivethirtyeight')\n"
   ]
  },
  {
   "cell_type": "markdown",
   "metadata": {},
   "source": [
    "# reading data "
   ]
  },
  {
   "cell_type": "code",
   "execution_count": 152,
   "metadata": {},
   "outputs": [
    {
     "name": "stdout",
     "output_type": "stream",
     "text": [
      "Train shape  :  (964, 10)\n",
      "Test shape   :  (36, 9)\n"
     ]
    }
   ],
   "source": [
    "data = pd.read_csv(\"loan.tsv\",delimiter = \"\\t\")\n",
    "test = pd.read_csv(\"test_loan.tsv\",delimiter = \"\\t\")\n",
    "data.columns = [i.lower() for i in data.columns]\n",
    "test.columns = [i.lower() for i in test.columns]\n",
    "print(\"Train shape  : \",data.shape)\n",
    "print(\"Test shape   : \",test.shape)"
   ]
  },
  {
   "cell_type": "code",
   "execution_count": 153,
   "metadata": {},
   "outputs": [
    {
     "data": {
      "text/html": [
       "<div>\n",
       "<style scoped>\n",
       "    .dataframe tbody tr th:only-of-type {\n",
       "        vertical-align: middle;\n",
       "    }\n",
       "\n",
       "    .dataframe tbody tr th {\n",
       "        vertical-align: top;\n",
       "    }\n",
       "\n",
       "    .dataframe thead th {\n",
       "        text-align: right;\n",
       "    }\n",
       "</style>\n",
       "<table border=\"1\" class=\"dataframe\">\n",
       "  <thead>\n",
       "    <tr style=\"text-align: right;\">\n",
       "      <th></th>\n",
       "      <th>age</th>\n",
       "      <th>sex</th>\n",
       "      <th>job</th>\n",
       "      <th>housing</th>\n",
       "      <th>saving accounts</th>\n",
       "      <th>checking account</th>\n",
       "      <th>credit amount</th>\n",
       "      <th>duration</th>\n",
       "      <th>purpose</th>\n",
       "      <th>risk</th>\n",
       "    </tr>\n",
       "  </thead>\n",
       "  <tbody>\n",
       "    <tr>\n",
       "      <th>0</th>\n",
       "      <td>67</td>\n",
       "      <td>male</td>\n",
       "      <td>2</td>\n",
       "      <td>own</td>\n",
       "      <td>NaN</td>\n",
       "      <td>little</td>\n",
       "      <td>1169</td>\n",
       "      <td>6</td>\n",
       "      <td>radio/TV</td>\n",
       "      <td>good</td>\n",
       "    </tr>\n",
       "    <tr>\n",
       "      <th>1</th>\n",
       "      <td>22</td>\n",
       "      <td>female</td>\n",
       "      <td>2</td>\n",
       "      <td>own</td>\n",
       "      <td>little</td>\n",
       "      <td>moderate</td>\n",
       "      <td>5951</td>\n",
       "      <td>48</td>\n",
       "      <td>radio/TV</td>\n",
       "      <td>bad</td>\n",
       "    </tr>\n",
       "    <tr>\n",
       "      <th>2</th>\n",
       "      <td>49</td>\n",
       "      <td>male</td>\n",
       "      <td>1</td>\n",
       "      <td>own</td>\n",
       "      <td>little</td>\n",
       "      <td>NaN</td>\n",
       "      <td>2096</td>\n",
       "      <td>12</td>\n",
       "      <td>education</td>\n",
       "      <td>good</td>\n",
       "    </tr>\n",
       "    <tr>\n",
       "      <th>3</th>\n",
       "      <td>45</td>\n",
       "      <td>male</td>\n",
       "      <td>2</td>\n",
       "      <td>free</td>\n",
       "      <td>little</td>\n",
       "      <td>little</td>\n",
       "      <td>7882</td>\n",
       "      <td>42</td>\n",
       "      <td>furniture/equipment</td>\n",
       "      <td>good</td>\n",
       "    </tr>\n",
       "    <tr>\n",
       "      <th>4</th>\n",
       "      <td>53</td>\n",
       "      <td>male</td>\n",
       "      <td>2</td>\n",
       "      <td>free</td>\n",
       "      <td>little</td>\n",
       "      <td>little</td>\n",
       "      <td>4870</td>\n",
       "      <td>24</td>\n",
       "      <td>car</td>\n",
       "      <td>bad</td>\n",
       "    </tr>\n",
       "  </tbody>\n",
       "</table>\n",
       "</div>"
      ],
      "text/plain": [
       "   age     sex  job housing saving accounts checking account  credit amount  \\\n",
       "0   67    male    2     own             NaN           little           1169   \n",
       "1   22  female    2     own          little         moderate           5951   \n",
       "2   49    male    1     own          little              NaN           2096   \n",
       "3   45    male    2    free          little           little           7882   \n",
       "4   53    male    2    free          little           little           4870   \n",
       "\n",
       "   duration              purpose  risk  \n",
       "0         6             radio/TV  good  \n",
       "1        48             radio/TV   bad  \n",
       "2        12            education  good  \n",
       "3        42  furniture/equipment  good  \n",
       "4        24                  car   bad  "
      ]
     },
     "execution_count": 153,
     "metadata": {},
     "output_type": "execute_result"
    }
   ],
   "source": [
    "data.head()"
   ]
  },
  {
   "cell_type": "code",
   "execution_count": 154,
   "metadata": {},
   "outputs": [
    {
     "data": {
      "text/html": [
       "<div>\n",
       "<style scoped>\n",
       "    .dataframe tbody tr th:only-of-type {\n",
       "        vertical-align: middle;\n",
       "    }\n",
       "\n",
       "    .dataframe tbody tr th {\n",
       "        vertical-align: top;\n",
       "    }\n",
       "\n",
       "    .dataframe thead th {\n",
       "        text-align: right;\n",
       "    }\n",
       "</style>\n",
       "<table border=\"1\" class=\"dataframe\">\n",
       "  <thead>\n",
       "    <tr style=\"text-align: right;\">\n",
       "      <th></th>\n",
       "      <th>age</th>\n",
       "      <th>sex</th>\n",
       "      <th>job</th>\n",
       "      <th>housing</th>\n",
       "      <th>saving accounts</th>\n",
       "      <th>checking account</th>\n",
       "      <th>credit amount</th>\n",
       "      <th>duration</th>\n",
       "      <th>purpose</th>\n",
       "    </tr>\n",
       "  </thead>\n",
       "  <tbody>\n",
       "    <tr>\n",
       "      <th>0</th>\n",
       "      <td>31</td>\n",
       "      <td>male</td>\n",
       "      <td>2</td>\n",
       "      <td>own</td>\n",
       "      <td>little</td>\n",
       "      <td>moderate</td>\n",
       "      <td>1935</td>\n",
       "      <td>24</td>\n",
       "      <td>business</td>\n",
       "    </tr>\n",
       "    <tr>\n",
       "      <th>1</th>\n",
       "      <td>33</td>\n",
       "      <td>male</td>\n",
       "      <td>2</td>\n",
       "      <td>rent</td>\n",
       "      <td>little</td>\n",
       "      <td>little</td>\n",
       "      <td>950</td>\n",
       "      <td>15</td>\n",
       "      <td>car</td>\n",
       "    </tr>\n",
       "  </tbody>\n",
       "</table>\n",
       "</div>"
      ],
      "text/plain": [
       "   age   sex  job housing saving accounts checking account  credit amount  \\\n",
       "0   31  male    2     own          little         moderate           1935   \n",
       "1   33  male    2    rent          little           little            950   \n",
       "\n",
       "   duration   purpose  \n",
       "0        24  business  \n",
       "1        15       car  "
      ]
     },
     "execution_count": 154,
     "metadata": {},
     "output_type": "execute_result"
    }
   ],
   "source": [
    "test.head(2)"
   ]
  },
  {
   "cell_type": "markdown",
   "metadata": {},
   "source": [
    "# Data Preprocessing"
   ]
  },
  {
   "cell_type": "code",
   "execution_count": 155,
   "metadata": {},
   "outputs": [
    {
     "data": {
      "text/plain": [
       "age                 0.000000\n",
       "sex                 0.000000\n",
       "job                 0.000000\n",
       "housing             0.000000\n",
       "saving accounts     0.186722\n",
       "checking account    0.396266\n",
       "credit amount       0.000000\n",
       "duration            0.000000\n",
       "purpose             0.000000\n",
       "risk                0.000000\n",
       "dtype: float64"
      ]
     },
     "execution_count": 155,
     "metadata": {},
     "output_type": "execute_result"
    }
   ],
   "source": [
    "data.isnull().mean()"
   ]
  },
  {
   "cell_type": "code",
   "execution_count": 156,
   "metadata": {},
   "outputs": [
    {
     "data": {
      "text/plain": [
       "age                 0.000000\n",
       "sex                 0.000000\n",
       "job                 0.000000\n",
       "housing             0.000000\n",
       "saving accounts     0.083333\n",
       "checking account    0.333333\n",
       "credit amount       0.000000\n",
       "duration            0.000000\n",
       "purpose             0.000000\n",
       "dtype: float64"
      ]
     },
     "execution_count": 156,
     "metadata": {},
     "output_type": "execute_result"
    }
   ],
   "source": [
    "test.isnull().mean()"
   ]
  },
  {
   "cell_type": "code",
   "execution_count": 157,
   "metadata": {},
   "outputs": [],
   "source": [
    "# Let's drop sex column\n",
    "data.drop([\"sex\"],axis = 1,inplace = True)\n",
    "test.drop([\"sex\"],axis = 1,inplace = True)"
   ]
  },
  {
   "cell_type": "code",
   "execution_count": 158,
   "metadata": {},
   "outputs": [
    {
     "data": {
      "text/plain": [
       "little        373\n",
       "moderate       69\n",
       "quite rich     50\n",
       "rich           41\n",
       "Name: saving accounts, dtype: int64"
      ]
     },
     "execution_count": 158,
     "metadata": {},
     "output_type": "execute_result"
    }
   ],
   "source": [
    "# Let's impute saving accounts feature \n",
    "data[data[\"risk\"]==\"good\"][\"saving accounts\"].value_counts()"
   ]
  },
  {
   "cell_type": "code",
   "execution_count": 159,
   "metadata": {},
   "outputs": [
    {
     "data": {
      "text/plain": [
       "little        205\n",
       "moderate       30\n",
       "quite rich     11\n",
       "rich            5\n",
       "Name: saving accounts, dtype: int64"
      ]
     },
     "execution_count": 159,
     "metadata": {},
     "output_type": "execute_result"
    }
   ],
   "source": [
    "data[data[\"risk\"]==\"bad\"][\"saving accounts\"].value_counts()"
   ]
  },
  {
   "cell_type": "code",
   "execution_count": 160,
   "metadata": {},
   "outputs": [],
   "source": [
    "# replacing nan value present in saving accounts feature with value = \"little\"\n",
    "data[\"saving accounts\"].fillna(value = data[\"saving accounts\"].mode()[0],axis = 0,inplace = True)\n",
    "test[\"saving accounts\"].fillna(value = data[\"saving accounts\"].mode()[0],axis = 0,inplace = True)"
   ]
  },
  {
   "cell_type": "code",
   "execution_count": 161,
   "metadata": {},
   "outputs": [
    {
     "data": {
      "text/plain": [
       "moderate    160\n",
       "little      135\n",
       "rich         49\n",
       "Name: checking account, dtype: int64"
      ]
     },
     "execution_count": 161,
     "metadata": {},
     "output_type": "execute_result"
    }
   ],
   "source": [
    "# Let's impute checking accounts feature \n",
    "data[data[\"risk\"]==\"good\"][\"checking account\"].value_counts()"
   ]
  },
  {
   "cell_type": "code",
   "execution_count": 162,
   "metadata": {},
   "outputs": [
    {
     "data": {
      "text/plain": [
       "little      130\n",
       "moderate     94\n",
       "rich         14\n",
       "Name: checking account, dtype: int64"
      ]
     },
     "execution_count": 162,
     "metadata": {},
     "output_type": "execute_result"
    }
   ],
   "source": [
    "data[data[\"risk\"]==\"bad\"][\"checking account\"].value_counts()"
   ]
  },
  {
   "cell_type": "code",
   "execution_count": 163,
   "metadata": {},
   "outputs": [],
   "source": [
    "chec_acc_good = data[data[\"risk\"]==\"good\"].loc[:]\n",
    "chec_acc_bad = data[data[\"risk\"]==\"bad\"].loc[:]\n",
    "\n",
    "chec_acc_good[\"checking account\"].fillna(chec_acc_good[\"checking account\"].mode()[0],axis = 0 ,inplace = True)\n",
    "chec_acc_bad[\"checking account\"].fillna(chec_acc_bad[\"checking account\"].mode()[0],axis = 0 ,inplace = True)\n",
    "\n",
    "data = pd.concat([chec_acc_good,chec_acc_bad])\n",
    "\n",
    "test[\"checking account\"].fillna(data[\"checking account\"].mode()[0],axis = 0 ,inplace = True)"
   ]
  },
  {
   "cell_type": "code",
   "execution_count": 164,
   "metadata": {},
   "outputs": [
    {
     "data": {
      "text/plain": [
       "age                 0\n",
       "job                 0\n",
       "housing             0\n",
       "saving accounts     0\n",
       "checking account    0\n",
       "credit amount       0\n",
       "duration            0\n",
       "purpose             0\n",
       "risk                0\n",
       "dtype: int64"
      ]
     },
     "execution_count": 164,
     "metadata": {},
     "output_type": "execute_result"
    }
   ],
   "source": [
    "# make sure no missing value . \n",
    "data.isnull().sum()"
   ]
  },
  {
   "cell_type": "code",
   "execution_count": 165,
   "metadata": {},
   "outputs": [
    {
     "data": {
      "text/plain": [
       "age                 0\n",
       "job                 0\n",
       "housing             0\n",
       "saving accounts     0\n",
       "checking account    0\n",
       "credit amount       0\n",
       "duration            0\n",
       "purpose             0\n",
       "dtype: int64"
      ]
     },
     "execution_count": 165,
     "metadata": {},
     "output_type": "execute_result"
    }
   ],
   "source": [
    "test.isnull().sum()"
   ]
  },
  {
   "cell_type": "markdown",
   "metadata": {},
   "source": [
    "# EDA"
   ]
  },
  {
   "cell_type": "markdown",
   "metadata": {},
   "source": [
    "# Univariate analysis "
   ]
  },
  {
   "cell_type": "raw",
   "metadata": {},
   "source": [
    "1 . AGE Feature insights . \n",
    "        * silghtly right skewed .\n",
    "        * most of the loan applicant are in age between 25 - 45 ."
   ]
  },
  {
   "cell_type": "code",
   "execution_count": 166,
   "metadata": {},
   "outputs": [
    {
     "data": {
      "image/png": "[encoded data removed]",
      "text/plain": [
       "<Figure size 432x288 with 1 Axes>"
      ]
     },
     "metadata": {},
     "output_type": "display_data"
    }
   ],
   "source": [
    "sns.distplot(data[\"age\"])\n",
    "plt.show()"
   ]
  },
  {
   "cell_type": "raw",
   "metadata": {},
   "source": [
    "2 . Job Feature insights  (numeric: 0 - unskilled and non-resident, 1 - unskilled and resident,2 - skilled, 3-highly skilled .)\n",
    "\n",
    "    *  most of the loan applicants are belongs too skilled group ."
   ]
  },
  {
   "cell_type": "code",
   "execution_count": 167,
   "metadata": {},
   "outputs": [
    {
     "data": {
      "image/png": "[encoded data removed]",
      "text/plain": [
       "<Figure size 432x288 with 1 Axes>"
      ]
     },
     "metadata": {},
     "output_type": "display_data"
    }
   ],
   "source": [
    "sns.countplot(data[\"job\"])\n",
    "plt.show()"
   ]
  },
  {
   "cell_type": "raw",
   "metadata": {},
   "source": [
    "3. housing feature insight  \n",
    "    *  most of the loan applicants are having own house and only few are living in rent or free house  ."
   ]
  },
  {
   "cell_type": "code",
   "execution_count": 168,
   "metadata": {},
   "outputs": [
    {
     "data": {
      "image/png": "[encoded data removed]",
      "text/plain": [
       "<Figure size 432x288 with 1 Axes>"
      ]
     },
     "metadata": {},
     "output_type": "display_data"
    }
   ],
   "source": [
    "sns.countplot(data[\"housing\"])\n",
    "plt.show()"
   ]
  },
  {
   "cell_type": "raw",
   "metadata": {},
   "source": [
    "4 . saving accounts feature insight \n",
    "    * most of the loan applicant's  saving account amount is little only .  "
   ]
  },
  {
   "cell_type": "code",
   "execution_count": 169,
   "metadata": {},
   "outputs": [
    {
     "data": {
      "image/png": "[encoded data removed]",
      "text/plain": [
       "<Figure size 432x288 with 1 Axes>"
      ]
     },
     "metadata": {},
     "output_type": "display_data"
    }
   ],
   "source": [
    "sns.countplot(data[\"saving accounts\"])\n",
    "plt.show()"
   ]
  },
  {
   "cell_type": "raw",
   "metadata": {},
   "source": [
    "4 . checking account feature insight \n",
    "    * most of the loan applicant's checking account amount is moderate and the little . "
   ]
  },
  {
   "cell_type": "code",
   "execution_count": 170,
   "metadata": {},
   "outputs": [
    {
     "data": {
      "image/png": "[encoded data removed]",
      "text/plain": [
       "<Figure size 432x288 with 1 Axes>"
      ]
     },
     "metadata": {},
     "output_type": "display_data"
    }
   ],
   "source": [
    "sns.countplot(data[\"checking account\"])\n",
    "plt.show()"
   ]
  },
  {
   "cell_type": "raw",
   "metadata": {},
   "source": [
    "So credit amount means the maximum amount that can be lended by the financial company to that loan applicant .\n",
    "\n",
    "5 . credit amount feature insight . \n",
    "    * right skewed \n",
    "    * so most of the loan applicant's credit amount are lies in between 250 - 3500"
   ]
  },
  {
   "cell_type": "code",
   "execution_count": 171,
   "metadata": {},
   "outputs": [
    {
     "name": "stdout",
     "output_type": "stream",
     "text": [
      "Minimum credit amount :  250\n",
      "Maximum credit amount :  18424\n"
     ]
    }
   ],
   "source": [
    "print(\"Minimum credit amount : \",data[\"credit amount\"].min())\n",
    "print(\"Maximum credit amount : \",data[\"credit amount\"].max())"
   ]
  },
  {
   "cell_type": "code",
   "execution_count": 172,
   "metadata": {},
   "outputs": [
    {
     "data": {
      "text/plain": [
       "Text(0.5, 1.0, 'Credit Amount')"
      ]
     },
     "execution_count": 172,
     "metadata": {},
     "output_type": "execute_result"
    },
    {
     "data": {
      "image/png": "[encoded data removed]",
      "text/plain": [
       "<Figure size 432x288 with 1 Axes>"
      ]
     },
     "metadata": {},
     "output_type": "display_data"
    }
   ],
   "source": [
    "plt.hist(data[\"credit amount\"])\n",
    "plt.title(\"Credit Amount\")"
   ]
  },
  {
   "cell_type": "raw",
   "metadata": {},
   "source": [
    "5 . duration feature insight . #  duration values are in months. \n",
    "    * most of the loan applicant's loan repayable duration are in range 1-2.5 years ."
   ]
  },
  {
   "cell_type": "code",
   "execution_count": 173,
   "metadata": {},
   "outputs": [
    {
     "data": {
      "text/plain": [
       "<matplotlib.axes._subplots.AxesSubplot at 0x18038707460>"
      ]
     },
     "execution_count": 173,
     "metadata": {},
     "output_type": "execute_result"
    },
    {
     "data": {
      "image/png": "[encoded data removed]",
      "text/plain": [
       "<Figure size 432x288 with 1 Axes>"
      ]
     },
     "metadata": {},
     "output_type": "display_data"
    }
   ],
   "source": [
    "data[\"duration\"].plot(kind = \"hist\")"
   ]
  },
  {
   "cell_type": "raw",
   "metadata": {},
   "source": [
    "6 . purpose feature :"
   ]
  },
  {
   "cell_type": "code",
   "execution_count": 174,
   "metadata": {},
   "outputs": [
    {
     "name": "stdout",
     "output_type": "stream",
     "text": [
      "Top 3 purpose : \n"
     ]
    },
    {
     "data": {
      "text/plain": [
       "car                    327\n",
       "radio/TV               272\n",
       "furniture/equipment    174\n",
       "Name: purpose, dtype: int64"
      ]
     },
     "execution_count": 174,
     "metadata": {},
     "output_type": "execute_result"
    }
   ],
   "source": [
    "print(\"Top 3 purpose : \")\n",
    "data[\"purpose\"].value_counts().head(3)"
   ]
  },
  {
   "cell_type": "code",
   "execution_count": 175,
   "metadata": {},
   "outputs": [
    {
     "data": {
      "image/png": "[encoded data removed]",
      "text/plain": [
       "<Figure size 1080x360 with 1 Axes>"
      ]
     },
     "metadata": {},
     "output_type": "display_data"
    }
   ],
   "source": [
    "plt.rcParams['figure.figsize'] = (15,5)\n",
    "sns.countplot(data[\"purpose\"])\n",
    "plt.show()"
   ]
  },
  {
   "cell_type": "raw",
   "metadata": {},
   "source": [
    "Target : Risk Feature \n",
    "\n",
    "    * good  - means  \" no risk for the money lender to get his money back from the applicant's \"  .\n",
    "    * bad  -  means  \" risk for the money lender to get his money back from the applicant's \"  .\n",
    "    \n",
    "Insight : \n",
    "        * Target is imbalanced ."
   ]
  },
  {
   "cell_type": "code",
   "execution_count": 176,
   "metadata": {},
   "outputs": [
    {
     "data": {
      "text/plain": [
       "good    683\n",
       "bad     281\n",
       "Name: risk, dtype: int64"
      ]
     },
     "execution_count": 176,
     "metadata": {},
     "output_type": "execute_result"
    }
   ],
   "source": [
    "data['risk'].value_counts()"
   ]
  },
  {
   "cell_type": "code",
   "execution_count": 177,
   "metadata": {},
   "outputs": [
    {
     "name": "stdout",
     "output_type": "stream",
     "text": [
      "Percentage of good value in Target col :  70.850622406639\n",
      "Percentage of bad  value in Target col :  29.149377593361\n"
     ]
    }
   ],
   "source": [
    "print(\"Percentage of good value in Target col : \",data['risk'].value_counts()[0]/len(data)*100)\n",
    "print(\"Percentage of bad  value in Target col : \",data['risk'].value_counts()[1]/len(data)*100)"
   ]
  },
  {
   "cell_type": "code",
   "execution_count": 178,
   "metadata": {},
   "outputs": [
    {
     "data": {
      "image/png": "[encoded data removed]",
      "text/plain": [
       "<Figure size 720x360 with 1 Axes>"
      ]
     },
     "metadata": {},
     "output_type": "display_data"
    }
   ],
   "source": [
    "plt.rcParams['figure.figsize'] = (10,5)\n",
    "sns.countplot(data[\"risk\"])\n",
    "plt.show()"
   ]
  },
  {
   "cell_type": "markdown",
   "metadata": {},
   "source": [
    "# Bivariate analysis "
   ]
  },
  {
   "cell_type": "markdown",
   "metadata": {},
   "source": [
    "1 . age vs risk\n",
    "\n",
    "  * from the below chart,we can conclude that people whose age is > 25 has a high chance of returning loan amount (less risk) .\n",
    "  * median of two different are significantly differing ,for good = 35(median) ,bad = (30) by this we can conclude age is also playing vital role for risk analysis .\n",
    "    "
   ]
  },
  {
   "cell_type": "code",
   "execution_count": 179,
   "metadata": {},
   "outputs": [
    {
     "data": {
      "image/png": "[encoded data removed]",
      "text/plain": [
       "<Figure size 720x360 with 1 Axes>"
      ]
     },
     "metadata": {},
     "output_type": "display_data"
    }
   ],
   "source": [
    "sns.boxplot(data[\"risk\"],data[\"age\"])\n",
    "plt.show()"
   ]
  },
  {
   "cell_type": "markdown",
   "metadata": {},
   "source": [
    "2 . job vs risk (numeric: 0 - unskilled and non-resident, 1 - unskilled and resident,2 - skilled, 3-highly skilled )\n",
    "\n",
    "   * from the below we conclude that skilled people are having high chance of returning loan (less risk) as well as high chance of not returning loan (high risk)."
   ]
  },
  {
   "cell_type": "code",
   "execution_count": 180,
   "metadata": {},
   "outputs": [
    {
     "data": {
      "image/png": "[encoded data removed]",
      "text/plain": [
       "<Figure size 720x360 with 1 Axes>"
      ]
     },
     "metadata": {},
     "output_type": "display_data"
    }
   ],
   "source": [
    "sns.countplot(data[\"job\"],hue = data[\"risk\"],palette = \"rainbow\")\n",
    "plt.show()"
   ]
  },
  {
   "cell_type": "markdown",
   "metadata": {},
   "source": [
    "3 . housing vs risk \n",
    "  * people who are having own house has high probablity of returning loan amount( less risk) ."
   ]
  },
  {
   "cell_type": "code",
   "execution_count": 181,
   "metadata": {},
   "outputs": [
    {
     "data": {
      "image/png": "[encoded data removed]",
      "text/plain": [
       "<Figure size 720x360 with 1 Axes>"
      ]
     },
     "metadata": {},
     "output_type": "display_data"
    }
   ],
   "source": [
    "sns.countplot(data[\"housing\"],hue = data[\"risk\"],palette = \"rainbow_r\")\n",
    "plt.show()"
   ]
  },
  {
   "cell_type": "markdown",
   "metadata": {},
   "source": [
    "4 . purpose vs risk\n",
    "* there is high chance of returning loan amount ,if it is car loan,equipment loan,Tv loans  because if the loan applicant did'nt pays loan amount properly , then lender will takes applicant car instead of money ."
   ]
  },
  {
   "cell_type": "code",
   "execution_count": 182,
   "metadata": {},
   "outputs": [
    {
     "data": {
      "image/png": "[encoded data removed]",
      "text/plain": [
       "<Figure size 1296x360 with 1 Axes>"
      ]
     },
     "metadata": {},
     "output_type": "display_data"
    }
   ],
   "source": [
    "plt.rcParams['figure.figsize'] = (18,5)\n",
    "sns.countplot(data[\"purpose\"],hue = data[\"risk\"],palette = \"plasma_r\")\n",
    "plt.show()"
   ]
  },
  {
   "cell_type": "markdown",
   "metadata": {},
   "source": [
    "5 . credit amount vs duration .\n",
    "* we can see slight linear relationship between these features. "
   ]
  },
  {
   "cell_type": "code",
   "execution_count": 183,
   "metadata": {},
   "outputs": [
    {
     "data": {
      "text/plain": [
       "<seaborn.axisgrid.JointGrid at 0x1803a290eb0>"
      ]
     },
     "execution_count": 183,
     "metadata": {},
     "output_type": "execute_result"
    },
    {
     "data": {
      "image/png": "[encoded data removed]",
      "text/plain": [
       "<Figure size 432x432 with 3 Axes>"
      ]
     },
     "metadata": {},
     "output_type": "display_data"
    }
   ],
   "source": [
    "sns.jointplot(data[\"credit amount\"],data[\"duration\"],kind = \"reg\")"
   ]
  },
  {
   "cell_type": "code",
   "execution_count": 184,
   "metadata": {},
   "outputs": [
    {
     "data": {
      "text/html": [
       "<div>\n",
       "<style scoped>\n",
       "    .dataframe tbody tr th:only-of-type {\n",
       "        vertical-align: middle;\n",
       "    }\n",
       "\n",
       "    .dataframe tbody tr th {\n",
       "        vertical-align: top;\n",
       "    }\n",
       "\n",
       "    .dataframe thead th {\n",
       "        text-align: right;\n",
       "    }\n",
       "</style>\n",
       "<table border=\"1\" class=\"dataframe\">\n",
       "  <thead>\n",
       "    <tr style=\"text-align: right;\">\n",
       "      <th></th>\n",
       "      <th>age</th>\n",
       "      <th>job</th>\n",
       "      <th>housing</th>\n",
       "      <th>saving accounts</th>\n",
       "      <th>checking account</th>\n",
       "      <th>credit amount</th>\n",
       "      <th>duration</th>\n",
       "      <th>purpose</th>\n",
       "      <th>risk</th>\n",
       "    </tr>\n",
       "  </thead>\n",
       "  <tbody>\n",
       "    <tr>\n",
       "      <th>0</th>\n",
       "      <td>67</td>\n",
       "      <td>2</td>\n",
       "      <td>own</td>\n",
       "      <td>little</td>\n",
       "      <td>little</td>\n",
       "      <td>1169</td>\n",
       "      <td>6</td>\n",
       "      <td>radio/TV</td>\n",
       "      <td>good</td>\n",
       "    </tr>\n",
       "    <tr>\n",
       "      <th>2</th>\n",
       "      <td>49</td>\n",
       "      <td>1</td>\n",
       "      <td>own</td>\n",
       "      <td>little</td>\n",
       "      <td>moderate</td>\n",
       "      <td>2096</td>\n",
       "      <td>12</td>\n",
       "      <td>education</td>\n",
       "      <td>good</td>\n",
       "    </tr>\n",
       "  </tbody>\n",
       "</table>\n",
       "</div>"
      ],
      "text/plain": [
       "   age  job housing saving accounts checking account  credit amount  duration  \\\n",
       "0   67    2     own          little           little           1169         6   \n",
       "2   49    1     own          little         moderate           2096        12   \n",
       "\n",
       "     purpose  risk  \n",
       "0   radio/TV  good  \n",
       "2  education  good  "
      ]
     },
     "execution_count": 184,
     "metadata": {},
     "output_type": "execute_result"
    }
   ],
   "source": [
    "data.head(2)"
   ]
  },
  {
   "cell_type": "markdown",
   "metadata": {},
   "source": [
    "# Feature Engineering"
   ]
  },
  {
   "cell_type": "code",
   "execution_count": 185,
   "metadata": {},
   "outputs": [],
   "source": [
    "data[\"risk\"]    = data[\"risk\"].map({\"good\":1,\"bad\":0})\n",
    "data[\"housing\"] = data[\"housing\"].map({\"own\":3,\"rent\":2,\"free\":1})\n",
    "data[\"saving accounts\"] = data[\"saving accounts\"].map({\"little\":1,\"moderate\":2,\"quite rich\":3,\"rich\":4})\n",
    "data[\"checking account\"] = data[\"checking account\"].map({\"little\":1,\"moderate\":2,\"rich\":3})\n",
    "data[\"purpose\"] = data[\"purpose\"].map({\"domestic appliances\":1,\"repairs\":2,\"education\":2,\"radio/TV\":2,\"business\":3,\"car\":3,\"furniture/equipment\":3,\"vacation/others\":4 })"
   ]
  },
  {
   "cell_type": "code",
   "execution_count": 186,
   "metadata": {},
   "outputs": [],
   "source": [
    "test[\"housing\"] = test[\"housing\"].map({\"own\":3,\"rent\":2,\"free\":1})\n",
    "test[\"saving accounts\"] = test[\"saving accounts\"].map({\"little\":1,\"moderate\":2,\"quite rich\":3,\"rich\":4})\n",
    "test[\"checking account\"] = test[\"checking account\"].map({\"little\":1,\"moderate\":2,\"rich\":3})\n",
    "test[\"purpose\"] = test[\"purpose\"].map({\"domestic appliances\":1,\"repairs\":2,\"education\":2,\"radio/TV\":2,\"business\":3,\"car\":3,\"furniture/equipment\":3,\"vacation/others\":4 })"
   ]
  },
  {
   "cell_type": "raw",
   "metadata": {},
   "source": [
    "* data.loc[data[\"purpose\"]==\"vacation/others\",:].sort_values(by = \"credit amount\",ascending = False)[\"credit amount\"].median() , 6948.0 .\n",
    "\n",
    "* data.loc[data[\"purpose\"]==\"business\",:].sort_values(by = \"credit amount\",ascending = False)[\"credit amount\"].median(), 2901.5\n",
    "* data.loc[data[\"purpose\"]==\"car\",:].sort_values(by = \"credit amount\",ascending = False)[\"credit amount\"].median() ,2751.0\n",
    "* data.loc[data[\"purpose\"]==\"furniture/equipment\",:].sort_values(by = \"credit amount\",ascending = False)[\"credit amount\"].median() , 2618.5\n",
    "* data.loc[data[\"purpose\"]==\"radio/TV\",:].sort_values(by = \"credit amount\",ascending = False)[\"credit amount\"].median() ,1899.5\n",
    "* data.loc[data[\"purpose\"]==\"education\",:].sort_values(by = \"credit amount\",ascending = False)[\"credit amount\"].median(),1819\n",
    "* data.loc[data[\"purpose\"]==\"repairs\",:].sort_values(by = \"credit amount\",ascending = False)[\"credit amount\"].median() , 1749 \n",
    "* data.loc[data[\"purpose\"]==\"domestic appliances\",:].sort_values(by = \"credit amount\",ascending = False)[\"credit amount\"].median() , 1249.0\n"
   ]
  },
  {
   "cell_type": "markdown",
   "metadata": {},
   "source": [
    "# Feature Scaling "
   ]
  },
  {
   "cell_type": "code",
   "execution_count": 187,
   "metadata": {},
   "outputs": [],
   "source": [
    "# coverting skewed data into normalized data . \n",
    "data[\"credit amount\"] = np.log(data[\"credit amount\"])\n",
    "data[\"age\"] = np.log(data[\"age\"])\n",
    "data[\"duration\"] = np.log(data[\"duration\"])\n",
    "\n",
    "# for test data\n",
    "test[\"credit amount\"] = np.log(data[\"credit amount\"])\n",
    "test[\"age\"] = np.log(data[\"age\"])\n",
    "test[\"duration\"] = np.log(data[\"duration\"])"
   ]
  },
  {
   "cell_type": "code",
   "execution_count": 188,
   "metadata": {},
   "outputs": [
    {
     "data": {
      "text/html": [
       "<div>\n",
       "<style scoped>\n",
       "    .dataframe tbody tr th:only-of-type {\n",
       "        vertical-align: middle;\n",
       "    }\n",
       "\n",
       "    .dataframe tbody tr th {\n",
       "        vertical-align: top;\n",
       "    }\n",
       "\n",
       "    .dataframe thead th {\n",
       "        text-align: right;\n",
       "    }\n",
       "</style>\n",
       "<table border=\"1\" class=\"dataframe\">\n",
       "  <thead>\n",
       "    <tr style=\"text-align: right;\">\n",
       "      <th></th>\n",
       "      <th>age</th>\n",
       "      <th>job</th>\n",
       "      <th>housing</th>\n",
       "      <th>saving accounts</th>\n",
       "      <th>checking account</th>\n",
       "      <th>credit amount</th>\n",
       "      <th>duration</th>\n",
       "      <th>purpose</th>\n",
       "      <th>risk</th>\n",
       "    </tr>\n",
       "  </thead>\n",
       "  <tbody>\n",
       "    <tr>\n",
       "      <th>0</th>\n",
       "      <td>4.204693</td>\n",
       "      <td>2</td>\n",
       "      <td>3</td>\n",
       "      <td>1</td>\n",
       "      <td>1</td>\n",
       "      <td>7.063904</td>\n",
       "      <td>1.791759</td>\n",
       "      <td>2</td>\n",
       "      <td>1</td>\n",
       "    </tr>\n",
       "    <tr>\n",
       "      <th>2</th>\n",
       "      <td>3.891820</td>\n",
       "      <td>1</td>\n",
       "      <td>3</td>\n",
       "      <td>1</td>\n",
       "      <td>2</td>\n",
       "      <td>7.647786</td>\n",
       "      <td>2.484907</td>\n",
       "      <td>2</td>\n",
       "      <td>1</td>\n",
       "    </tr>\n",
       "  </tbody>\n",
       "</table>\n",
       "</div>"
      ],
      "text/plain": [
       "        age  job  housing  saving accounts  checking account  credit amount  \\\n",
       "0  4.204693    2        3                1                 1       7.063904   \n",
       "2  3.891820    1        3                1                 2       7.647786   \n",
       "\n",
       "   duration  purpose  risk  \n",
       "0  1.791759        2     1  \n",
       "2  2.484907        2     1  "
      ]
     },
     "execution_count": 188,
     "metadata": {},
     "output_type": "execute_result"
    }
   ],
   "source": [
    "data.head(2)"
   ]
  },
  {
   "cell_type": "code",
   "execution_count": 189,
   "metadata": {},
   "outputs": [
    {
     "data": {
      "text/html": [
       "<div>\n",
       "<style scoped>\n",
       "    .dataframe tbody tr th:only-of-type {\n",
       "        vertical-align: middle;\n",
       "    }\n",
       "\n",
       "    .dataframe tbody tr th {\n",
       "        vertical-align: top;\n",
       "    }\n",
       "\n",
       "    .dataframe thead th {\n",
       "        text-align: right;\n",
       "    }\n",
       "</style>\n",
       "<table border=\"1\" class=\"dataframe\">\n",
       "  <thead>\n",
       "    <tr style=\"text-align: right;\">\n",
       "      <th></th>\n",
       "      <th>age</th>\n",
       "      <th>job</th>\n",
       "      <th>housing</th>\n",
       "      <th>saving accounts</th>\n",
       "      <th>checking account</th>\n",
       "      <th>credit amount</th>\n",
       "      <th>duration</th>\n",
       "      <th>purpose</th>\n",
       "    </tr>\n",
       "  </thead>\n",
       "  <tbody>\n",
       "    <tr>\n",
       "      <th>0</th>\n",
       "      <td>1.436201</td>\n",
       "      <td>2</td>\n",
       "      <td>3</td>\n",
       "      <td>1</td>\n",
       "      <td>2</td>\n",
       "      <td>1.954998</td>\n",
       "      <td>0.583198</td>\n",
       "      <td>3</td>\n",
       "    </tr>\n",
       "    <tr>\n",
       "      <th>1</th>\n",
       "      <td>1.128508</td>\n",
       "      <td>2</td>\n",
       "      <td>2</td>\n",
       "      <td>1</td>\n",
       "      <td>1</td>\n",
       "      <td>2.162324</td>\n",
       "      <td>1.353565</td>\n",
       "      <td>3</td>\n",
       "    </tr>\n",
       "  </tbody>\n",
       "</table>\n",
       "</div>"
      ],
      "text/plain": [
       "        age  job  housing  saving accounts  checking account  credit amount  \\\n",
       "0  1.436201    2        3                1                 2       1.954998   \n",
       "1  1.128508    2        2                1                 1       2.162324   \n",
       "\n",
       "   duration  purpose  \n",
       "0  0.583198        3  \n",
       "1  1.353565        3  "
      ]
     },
     "execution_count": 189,
     "metadata": {},
     "output_type": "execute_result"
    }
   ],
   "source": [
    "test.head(2)"
   ]
  },
  {
   "cell_type": "code",
   "execution_count": 190,
   "metadata": {},
   "outputs": [
    {
     "data": {
      "image/png": "[encoded data removed]",
      "text/plain": [
       "<Figure size 576x288 with 2 Axes>"
      ]
     },
     "metadata": {},
     "output_type": "display_data"
    }
   ],
   "source": [
    "fig = plt.figure(figsize=(8,4))\n",
    "plt.subplot(121)\n",
    "sns.distplot(data[\"age\"])\n",
    "\n",
    "plt.subplot(122)\n",
    "sns.distplot(data[\"credit amount\"])\n",
    "\n",
    "plt.show()"
   ]
  },
  {
   "cell_type": "code",
   "execution_count": 191,
   "metadata": {},
   "outputs": [
    {
     "data": {
      "text/plain": [
       "<matplotlib.axes._subplots.AxesSubplot at 0x18038762cd0>"
      ]
     },
     "execution_count": 191,
     "metadata": {},
     "output_type": "execute_result"
    },
    {
     "data": {
      "image/png": "[encoded data removed]",
      "text/plain": [
       "<Figure size 1296x360 with 1 Axes>"
      ]
     },
     "metadata": {},
     "output_type": "display_data"
    }
   ],
   "source": [
    "sns.distplot(data[\"duration\"])"
   ]
  },
  {
   "cell_type": "code",
   "execution_count": 192,
   "metadata": {},
   "outputs": [
    {
     "data": {
      "text/html": [
       "<div>\n",
       "<style scoped>\n",
       "    .dataframe tbody tr th:only-of-type {\n",
       "        vertical-align: middle;\n",
       "    }\n",
       "\n",
       "    .dataframe tbody tr th {\n",
       "        vertical-align: top;\n",
       "    }\n",
       "\n",
       "    .dataframe thead th {\n",
       "        text-align: right;\n",
       "    }\n",
       "</style>\n",
       "<table border=\"1\" class=\"dataframe\">\n",
       "  <thead>\n",
       "    <tr style=\"text-align: right;\">\n",
       "      <th></th>\n",
       "      <th>age</th>\n",
       "      <th>job</th>\n",
       "      <th>housing</th>\n",
       "      <th>saving accounts</th>\n",
       "      <th>checking account</th>\n",
       "      <th>credit amount</th>\n",
       "      <th>duration</th>\n",
       "      <th>purpose</th>\n",
       "      <th>risk</th>\n",
       "    </tr>\n",
       "  </thead>\n",
       "  <tbody>\n",
       "    <tr>\n",
       "      <th>0</th>\n",
       "      <td>4.204693</td>\n",
       "      <td>2</td>\n",
       "      <td>3</td>\n",
       "      <td>1</td>\n",
       "      <td>1</td>\n",
       "      <td>7.063904</td>\n",
       "      <td>1.791759</td>\n",
       "      <td>2</td>\n",
       "      <td>1</td>\n",
       "    </tr>\n",
       "    <tr>\n",
       "      <th>2</th>\n",
       "      <td>3.891820</td>\n",
       "      <td>1</td>\n",
       "      <td>3</td>\n",
       "      <td>1</td>\n",
       "      <td>2</td>\n",
       "      <td>7.647786</td>\n",
       "      <td>2.484907</td>\n",
       "      <td>2</td>\n",
       "      <td>1</td>\n",
       "    </tr>\n",
       "    <tr>\n",
       "      <th>3</th>\n",
       "      <td>3.806662</td>\n",
       "      <td>2</td>\n",
       "      <td>1</td>\n",
       "      <td>1</td>\n",
       "      <td>1</td>\n",
       "      <td>8.972337</td>\n",
       "      <td>3.737670</td>\n",
       "      <td>3</td>\n",
       "      <td>1</td>\n",
       "    </tr>\n",
       "    <tr>\n",
       "      <th>5</th>\n",
       "      <td>3.555348</td>\n",
       "      <td>1</td>\n",
       "      <td>1</td>\n",
       "      <td>1</td>\n",
       "      <td>2</td>\n",
       "      <td>9.111072</td>\n",
       "      <td>3.583519</td>\n",
       "      <td>2</td>\n",
       "      <td>1</td>\n",
       "    </tr>\n",
       "    <tr>\n",
       "      <th>6</th>\n",
       "      <td>3.970292</td>\n",
       "      <td>2</td>\n",
       "      <td>3</td>\n",
       "      <td>3</td>\n",
       "      <td>2</td>\n",
       "      <td>7.949797</td>\n",
       "      <td>3.178054</td>\n",
       "      <td>3</td>\n",
       "      <td>1</td>\n",
       "    </tr>\n",
       "  </tbody>\n",
       "</table>\n",
       "</div>"
      ],
      "text/plain": [
       "        age  job  housing  saving accounts  checking account  credit amount  \\\n",
       "0  4.204693    2        3                1                 1       7.063904   \n",
       "2  3.891820    1        3                1                 2       7.647786   \n",
       "3  3.806662    2        1                1                 1       8.972337   \n",
       "5  3.555348    1        1                1                 2       9.111072   \n",
       "6  3.970292    2        3                3                 2       7.949797   \n",
       "\n",
       "   duration  purpose  risk  \n",
       "0  1.791759        2     1  \n",
       "2  2.484907        2     1  \n",
       "3  3.737670        3     1  \n",
       "5  3.583519        2     1  \n",
       "6  3.178054        3     1  "
      ]
     },
     "execution_count": 192,
     "metadata": {},
     "output_type": "execute_result"
    }
   ],
   "source": [
    "data.head()"
   ]
  },
  {
   "cell_type": "code",
   "execution_count": 193,
   "metadata": {},
   "outputs": [
    {
     "data": {
      "text/plain": [
       "<matplotlib.axes._subplots.AxesSubplot at 0x180381dea30>"
      ]
     },
     "execution_count": 193,
     "metadata": {},
     "output_type": "execute_result"
    },
    {
     "data": {
      "image/png": "[encoded data removed]",
      "text/plain": [
       "<Figure size 1296x360 with 2 Axes>"
      ]
     },
     "metadata": {},
     "output_type": "display_data"
    }
   ],
   "source": [
    "sns.heatmap(data.corr(),annot= True)"
   ]
  },
  {
   "cell_type": "markdown",
   "metadata": {},
   "source": [
    "# Comparing different Models and using the best one "
   ]
  },
  {
   "cell_type": "code",
   "execution_count": 194,
   "metadata": {},
   "outputs": [],
   "source": [
    "from sklearn.linear_model import LogisticRegression\n",
    "from sklearn.tree import DecisionTreeClassifier\n",
    "from sklearn.model_selection import train_test_split"
   ]
  },
  {
   "cell_type": "code",
   "execution_count": 195,
   "metadata": {},
   "outputs": [
    {
     "data": {
      "text/html": [
       "<div>\n",
       "<style scoped>\n",
       "    .dataframe tbody tr th:only-of-type {\n",
       "        vertical-align: middle;\n",
       "    }\n",
       "\n",
       "    .dataframe tbody tr th {\n",
       "        vertical-align: top;\n",
       "    }\n",
       "\n",
       "    .dataframe thead th {\n",
       "        text-align: right;\n",
       "    }\n",
       "</style>\n",
       "<table border=\"1\" class=\"dataframe\">\n",
       "  <thead>\n",
       "    <tr style=\"text-align: right;\">\n",
       "      <th></th>\n",
       "      <th>Algorithms</th>\n",
       "      <th>Techniques</th>\n",
       "      <th>Accuracy</th>\n",
       "      <th>recall</th>\n",
       "      <th>Precision</th>\n",
       "      <th>F1-score</th>\n",
       "    </tr>\n",
       "  </thead>\n",
       "  <tbody>\n",
       "    <tr>\n",
       "      <th>0</th>\n",
       "      <td>LogReg</td>\n",
       "      <td>oversample</td>\n",
       "      <td>0</td>\n",
       "      <td>0</td>\n",
       "      <td>0</td>\n",
       "      <td>0</td>\n",
       "    </tr>\n",
       "    <tr>\n",
       "      <th>1</th>\n",
       "      <td>LogReg</td>\n",
       "      <td>undersample</td>\n",
       "      <td>0</td>\n",
       "      <td>0</td>\n",
       "      <td>0</td>\n",
       "      <td>0</td>\n",
       "    </tr>\n",
       "    <tr>\n",
       "      <th>2</th>\n",
       "      <td>LogReg</td>\n",
       "      <td>smote</td>\n",
       "      <td>0</td>\n",
       "      <td>0</td>\n",
       "      <td>0</td>\n",
       "      <td>0</td>\n",
       "    </tr>\n",
       "    <tr>\n",
       "      <th>3</th>\n",
       "      <td>Dtree</td>\n",
       "      <td>oversample</td>\n",
       "      <td>0</td>\n",
       "      <td>0</td>\n",
       "      <td>0</td>\n",
       "      <td>0</td>\n",
       "    </tr>\n",
       "    <tr>\n",
       "      <th>4</th>\n",
       "      <td>Dtree</td>\n",
       "      <td>undersample</td>\n",
       "      <td>0</td>\n",
       "      <td>0</td>\n",
       "      <td>0</td>\n",
       "      <td>0</td>\n",
       "    </tr>\n",
       "    <tr>\n",
       "      <th>5</th>\n",
       "      <td>Dtree</td>\n",
       "      <td>smote</td>\n",
       "      <td>0</td>\n",
       "      <td>0</td>\n",
       "      <td>0</td>\n",
       "      <td>0</td>\n",
       "    </tr>\n",
       "    <tr>\n",
       "      <th>6</th>\n",
       "      <td>svm</td>\n",
       "      <td>oversample</td>\n",
       "      <td>0</td>\n",
       "      <td>0</td>\n",
       "      <td>0</td>\n",
       "      <td>0</td>\n",
       "    </tr>\n",
       "    <tr>\n",
       "      <th>7</th>\n",
       "      <td>svm</td>\n",
       "      <td>undersample</td>\n",
       "      <td>0</td>\n",
       "      <td>0</td>\n",
       "      <td>0</td>\n",
       "      <td>0</td>\n",
       "    </tr>\n",
       "    <tr>\n",
       "      <th>8</th>\n",
       "      <td>svm</td>\n",
       "      <td>smote</td>\n",
       "      <td>0</td>\n",
       "      <td>0</td>\n",
       "      <td>0</td>\n",
       "      <td>0</td>\n",
       "    </tr>\n",
       "    <tr>\n",
       "      <th>9</th>\n",
       "      <td>xgb</td>\n",
       "      <td>oversample</td>\n",
       "      <td>0</td>\n",
       "      <td>0</td>\n",
       "      <td>0</td>\n",
       "      <td>0</td>\n",
       "    </tr>\n",
       "    <tr>\n",
       "      <th>10</th>\n",
       "      <td>xgb</td>\n",
       "      <td>undersample</td>\n",
       "      <td>0</td>\n",
       "      <td>0</td>\n",
       "      <td>0</td>\n",
       "      <td>0</td>\n",
       "    </tr>\n",
       "    <tr>\n",
       "      <th>11</th>\n",
       "      <td>xgb</td>\n",
       "      <td>smote</td>\n",
       "      <td>0</td>\n",
       "      <td>0</td>\n",
       "      <td>0</td>\n",
       "      <td>0</td>\n",
       "    </tr>\n",
       "  </tbody>\n",
       "</table>\n",
       "</div>"
      ],
      "text/plain": [
       "   Algorithms   Techniques  Accuracy  recall  Precision  F1-score\n",
       "0      LogReg   oversample         0       0          0         0\n",
       "1      LogReg  undersample         0       0          0         0\n",
       "2      LogReg        smote         0       0          0         0\n",
       "3       Dtree   oversample         0       0          0         0\n",
       "4       Dtree  undersample         0       0          0         0\n",
       "5       Dtree        smote         0       0          0         0\n",
       "6         svm   oversample         0       0          0         0\n",
       "7         svm  undersample         0       0          0         0\n",
       "8         svm        smote         0       0          0         0\n",
       "9         xgb   oversample         0       0          0         0\n",
       "10        xgb  undersample         0       0          0         0\n",
       "11        xgb        smote         0       0          0         0"
      ]
     },
     "execution_count": 195,
     "metadata": {},
     "output_type": "execute_result"
    }
   ],
   "source": [
    "result = pd.DataFrame({\"Algorithms\":[\"LogReg\",\"LogReg\",\"LogReg\",\"Dtree\",\"Dtree\",\"Dtree\",\"svm\",\"svm\",\"svm\",\"xgb\",\"xgb\",\"xgb\"],\n",
    "                       \"Techniques\":[\"oversample\",\"undersample\",\"smote\",\"oversample\",\"undersample\",\"smote\",\"oversample\",\"undersample\",\"smote\",\"oversample\",\"undersample\",\"smote\"],\"Accuracy\" : [0,0,0,0,0,0,0,0,0,0,0,0],\"recall\" : [0,0,0,0,0,0,0,0,0,0,0,0],\"Precision\":[0,0,0,0,0,0,0,0,0,0,0,0],\"F1-score\" :[0,0,0,0,0,0,0,0,0,0,0,0]})\n",
    "result"
   ]
  },
  {
   "cell_type": "code",
   "execution_count": 196,
   "metadata": {},
   "outputs": [],
   "source": [
    "#  Counter Var's \n",
    "lrcnt = 0\n",
    "dtcnt = 3\n",
    "svcnt = 6\n",
    "xgcnt = 9\n",
    "cnt   = 0 "
   ]
  },
  {
   "cell_type": "code",
   "execution_count": 197,
   "metadata": {},
   "outputs": [],
   "source": [
    "for i in range(3):\n",
    "    x = data.drop([\"risk\"],axis = 1).copy()\n",
    "    y = data[\"risk\"]\n",
    "    # xtrain,xtest,ytrain,ytest = train_test_split(x,y,test_size = 0,3,random_state = 33)\n",
    "    \n",
    "    if(i==0 or i==1):\n",
    "        \n",
    "        good = data[data[\"risk\"]==1]\n",
    "        bad  = data[data[\"risk\"]==0]\n",
    "        \n",
    "        if(i==0):\n",
    "            # Let's do oversampling of minority class i.e 1 in our case\n",
    "            oversampled = bad.sample(n = len(good),replace = True)\n",
    "            d1 =  oversampled\n",
    "            d2 =  good\n",
    "        \n",
    "        elif(i==1):\n",
    "            # Let's do undersampling of majaority class i.e 1 in our case\n",
    "            undersampled = good.sample(n = len(bad),replace = True)\n",
    "            d1 = undersampled\n",
    "            d2 = bad\n",
    "        \n",
    "        dnew = pd.concat([d1,d2])\n",
    "        x = dnew.drop([\"risk\"],axis = 1).copy()\n",
    "        y = dnew[\"risk\"]\n",
    "        \n",
    "    else:\n",
    "        \n",
    "        # Applying SMOTE Algorithm (Synthetic Minority Oversampling Technique's . )\n",
    "        sm = SMOTE(sampling_strategy = 1.0,random_state = 33,n_jobs = -1)\n",
    "        x,y = sm.fit_sample(x,y)\n",
    "    \n",
    "    for j in range(4):\n",
    "        if(j==0):\n",
    "            clf = LogisticRegression()\n",
    "            cnt = lrcnt\n",
    "            lrcnt+=1\n",
    "        elif(j==1):\n",
    "            clf = DecisionTreeClassifier(random_state = 33,min_samples_split = 5,min_samples_leaf =10)\n",
    "            cnt = dtcnt\n",
    "            dtcnt+=1\n",
    "        elif(j==2):\n",
    "            clf = svm.SVC()\n",
    "            cnt = svcnt\n",
    "            svcnt+=1\n",
    "        else:\n",
    "            clf = XGBClassifier()\n",
    "            cnt = xgcnt\n",
    "            xgcnt+=1\n",
    "            \n",
    "        \n",
    "        clf.fit(x,y)\n",
    "        ypred = clf.predict(x)\n",
    "        \n",
    "        result.iloc[cnt,2] = round(100*accuracy_score(y,ypred),2)\n",
    "        result.iloc[cnt,3] = round(100*precision_score(y,ypred),2)\n",
    "        result.iloc[cnt,4] = round(100*recall_score(y,ypred),2)\n",
    "        result.iloc[cnt,5] = round(100*f1_score(y,ypred),2)\n",
    "            \n",
    "            \n",
    "        \n",
    "            \n",
    "        \n",
    "       "
   ]
  },
  {
   "cell_type": "code",
   "execution_count": 198,
   "metadata": {},
   "outputs": [
    {
     "data": {
      "text/html": [
       "<div>\n",
       "<style scoped>\n",
       "    .dataframe tbody tr th:only-of-type {\n",
       "        vertical-align: middle;\n",
       "    }\n",
       "\n",
       "    .dataframe tbody tr th {\n",
       "        vertical-align: top;\n",
       "    }\n",
       "\n",
       "    .dataframe thead th {\n",
       "        text-align: right;\n",
       "    }\n",
       "</style>\n",
       "<table border=\"1\" class=\"dataframe\">\n",
       "  <thead>\n",
       "    <tr style=\"text-align: right;\">\n",
       "      <th></th>\n",
       "      <th>Algorithms</th>\n",
       "      <th>Techniques</th>\n",
       "      <th>Accuracy</th>\n",
       "      <th>recall</th>\n",
       "      <th>Precision</th>\n",
       "      <th>F1-score</th>\n",
       "    </tr>\n",
       "  </thead>\n",
       "  <tbody>\n",
       "    <tr>\n",
       "      <th>0</th>\n",
       "      <td>LogReg</td>\n",
       "      <td>oversample</td>\n",
       "      <td>76.28</td>\n",
       "      <td>75.98</td>\n",
       "      <td>76.87</td>\n",
       "      <td>76.42</td>\n",
       "    </tr>\n",
       "    <tr>\n",
       "      <th>1</th>\n",
       "      <td>LogReg</td>\n",
       "      <td>undersample</td>\n",
       "      <td>74.02</td>\n",
       "      <td>73.68</td>\n",
       "      <td>74.73</td>\n",
       "      <td>74.20</td>\n",
       "    </tr>\n",
       "    <tr>\n",
       "      <th>2</th>\n",
       "      <td>LogReg</td>\n",
       "      <td>smote</td>\n",
       "      <td>74.23</td>\n",
       "      <td>73.61</td>\n",
       "      <td>75.55</td>\n",
       "      <td>74.57</td>\n",
       "    </tr>\n",
       "    <tr>\n",
       "      <th>3</th>\n",
       "      <td>Dtree</td>\n",
       "      <td>oversample</td>\n",
       "      <td>86.46</td>\n",
       "      <td>88.54</td>\n",
       "      <td>83.75</td>\n",
       "      <td>86.08</td>\n",
       "    </tr>\n",
       "    <tr>\n",
       "      <th>4</th>\n",
       "      <td>Dtree</td>\n",
       "      <td>undersample</td>\n",
       "      <td>81.32</td>\n",
       "      <td>85.48</td>\n",
       "      <td>75.44</td>\n",
       "      <td>80.15</td>\n",
       "    </tr>\n",
       "    <tr>\n",
       "      <th>5</th>\n",
       "      <td>Dtree</td>\n",
       "      <td>smote</td>\n",
       "      <td>82.50</td>\n",
       "      <td>85.69</td>\n",
       "      <td>78.04</td>\n",
       "      <td>81.69</td>\n",
       "    </tr>\n",
       "    <tr>\n",
       "      <th>6</th>\n",
       "      <td>svm</td>\n",
       "      <td>oversample</td>\n",
       "      <td>72.84</td>\n",
       "      <td>69.90</td>\n",
       "      <td>80.23</td>\n",
       "      <td>74.71</td>\n",
       "    </tr>\n",
       "    <tr>\n",
       "      <th>7</th>\n",
       "      <td>svm</td>\n",
       "      <td>undersample</td>\n",
       "      <td>71.00</td>\n",
       "      <td>68.44</td>\n",
       "      <td>77.94</td>\n",
       "      <td>72.88</td>\n",
       "    </tr>\n",
       "    <tr>\n",
       "      <th>8</th>\n",
       "      <td>svm</td>\n",
       "      <td>smote</td>\n",
       "      <td>71.52</td>\n",
       "      <td>68.33</td>\n",
       "      <td>80.23</td>\n",
       "      <td>73.80</td>\n",
       "    </tr>\n",
       "    <tr>\n",
       "      <th>9</th>\n",
       "      <td>xgb</td>\n",
       "      <td>oversample</td>\n",
       "      <td>99.93</td>\n",
       "      <td>100.00</td>\n",
       "      <td>99.85</td>\n",
       "      <td>99.93</td>\n",
       "    </tr>\n",
       "    <tr>\n",
       "      <th>10</th>\n",
       "      <td>xgb</td>\n",
       "      <td>undersample</td>\n",
       "      <td>100.00</td>\n",
       "      <td>100.00</td>\n",
       "      <td>100.00</td>\n",
       "      <td>100.00</td>\n",
       "    </tr>\n",
       "    <tr>\n",
       "      <th>11</th>\n",
       "      <td>xgb</td>\n",
       "      <td>smote</td>\n",
       "      <td>99.93</td>\n",
       "      <td>100.00</td>\n",
       "      <td>99.85</td>\n",
       "      <td>99.93</td>\n",
       "    </tr>\n",
       "  </tbody>\n",
       "</table>\n",
       "</div>"
      ],
      "text/plain": [
       "   Algorithms   Techniques  Accuracy  recall  Precision  F1-score\n",
       "0      LogReg   oversample     76.28   75.98      76.87     76.42\n",
       "1      LogReg  undersample     74.02   73.68      74.73     74.20\n",
       "2      LogReg        smote     74.23   73.61      75.55     74.57\n",
       "3       Dtree   oversample     86.46   88.54      83.75     86.08\n",
       "4       Dtree  undersample     81.32   85.48      75.44     80.15\n",
       "5       Dtree        smote     82.50   85.69      78.04     81.69\n",
       "6         svm   oversample     72.84   69.90      80.23     74.71\n",
       "7         svm  undersample     71.00   68.44      77.94     72.88\n",
       "8         svm        smote     71.52   68.33      80.23     73.80\n",
       "9         xgb   oversample     99.93  100.00      99.85     99.93\n",
       "10        xgb  undersample    100.00  100.00     100.00    100.00\n",
       "11        xgb        smote     99.93  100.00      99.85     99.93"
      ]
     },
     "execution_count": 198,
     "metadata": {},
     "output_type": "execute_result"
    }
   ],
   "source": [
    "result"
   ]
  },
  {
   "cell_type": "raw",
   "metadata": {},
   "source": [
    "# By obesrving above table ,we can conlcude that \n",
    " *  Dtree and XGBoost Working comparable good w.r.t undersample,oversample,smote .\n",
    " so i am applying hyperparameter tuning on top of these alog's w.r.t oversampling technique .\n",
    "    "
   ]
  },
  {
   "cell_type": "code",
   "execution_count": 199,
   "metadata": {},
   "outputs": [],
   "source": [
    "x = data.drop([\"risk\"],axis = 1).copy()\n",
    "y = data[\"risk\"]\n",
    "\n",
    "good = data[data[\"risk\"]==1]\n",
    "bad  = data[data[\"risk\"]==0]\n",
    "\n",
    "oversampled = bad.sample(n = len(good),replace = True)\n",
    "d1 =  oversampled\n",
    "d2 =  good\n",
    "\n",
    "dnew = pd.concat([d1,d2])\n",
    "x = dnew.drop([\"risk\"],axis = 1).copy()\n",
    "y = dnew[\"risk\"]"
   ]
  },
  {
   "cell_type": "code",
   "execution_count": 200,
   "metadata": {},
   "outputs": [],
   "source": [
    "from sklearn.model_selection import GridSearchCV,RandomizedSearchCV"
   ]
  },
  {
   "cell_type": "markdown",
   "metadata": {},
   "source": [
    "# Model Building"
   ]
  },
  {
   "cell_type": "markdown",
   "metadata": {},
   "source": [
    "## DecisionTree"
   ]
  },
  {
   "cell_type": "code",
   "execution_count": 201,
   "metadata": {},
   "outputs": [
    {
     "data": {
      "text/plain": [
       "{'min_samples_split': 8,\n",
       " 'min_samples_leaf': 5,\n",
       " 'max_features': 'log2',\n",
       " 'criterion': 'entropy'}"
      ]
     },
     "execution_count": 201,
     "metadata": {},
     "output_type": "execute_result"
    }
   ],
   "source": [
    "dt = DecisionTreeClassifier(random_state = 33)\n",
    "\n",
    "# Setting Parameters for DecisionTreeClassifier . \n",
    "\n",
    "params = {  \n",
    "             'criterion'    : [\"gini\", \"entropy\"],\n",
    "             'max_features' : [\"auto\", \"sqrt\", \"log2\"],\n",
    "              'min_samples_split' :[i for i in range(4,16)],\n",
    "              'min_samples_leaf' : [i for i in range(4,16)]\n",
    "         }\n",
    "\n",
    "dt_clf = RandomizedSearchCV(dt,param_distributions = params,cv = 10)\n",
    "dt_clf.fit(x,y)\n",
    "dt_clf.best_params_"
   ]
  },
  {
   "cell_type": "code",
   "execution_count": 202,
   "metadata": {},
   "outputs": [
    {
     "name": "stdout",
     "output_type": "stream",
     "text": [
      "              precision    recall  f1-score   support\n",
      "\n",
      "           0       0.91      0.85      0.88       733\n",
      "           1       0.83      0.90      0.87       633\n",
      "\n",
      "    accuracy                           0.87      1366\n",
      "   macro avg       0.87      0.87      0.87      1366\n",
      "weighted avg       0.87      0.87      0.87      1366\n",
      "\n"
     ]
    }
   ],
   "source": [
    "# FOR Training data . \n",
    "y_train_pred = dt_clf.predict(x)\n",
    "print(classification_report(y_train_pred,y))"
   ]
  },
  {
   "cell_type": "code",
   "execution_count": 203,
   "metadata": {},
   "outputs": [
    {
     "name": "stdout",
     "output_type": "stream",
     "text": [
      "[[620 113]\n",
      " [ 63 570]]\n"
     ]
    }
   ],
   "source": [
    "print(confusion_matrix(y_train_pred,y))"
   ]
  },
  {
   "cell_type": "markdown",
   "metadata": {},
   "source": [
    "### for testing data"
   ]
  },
  {
   "cell_type": "code",
   "execution_count": 204,
   "metadata": {},
   "outputs": [
    {
     "data": {
      "text/plain": [
       "array([0, 0, 0, 0, 0, 0, 0, 0, 0, 1, 0, 0, 0, 0, 1, 0, 0, 1, 1, 0, 0, 1,\n",
       "       1, 0, 1, 1, 0, 0, 1, 1, 0, 0, 0, 0, 0, 0], dtype=int64)"
      ]
     },
     "execution_count": 204,
     "metadata": {},
     "output_type": "execute_result"
    }
   ],
   "source": [
    "ytest = dt_clf.predict(test)\n",
    "ytest.ravel()"
   ]
  },
  {
   "cell_type": "code",
   "execution_count": 205,
   "metadata": {},
   "outputs": [],
   "source": [
    "# Decision tree working awesome , i feel even random forest works good ."
   ]
  },
  {
   "cell_type": "markdown",
   "metadata": {},
   "source": [
    "## XGBoost"
   ]
  },
  {
   "cell_type": "code",
   "execution_count": 206,
   "metadata": {},
   "outputs": [
    {
     "data": {
      "text/plain": [
       "{'n_estimators': 200,\n",
       " 'min_child_weight': 3,\n",
       " 'max_depth': 7,\n",
       " 'learning_rate': 0.1}"
      ]
     },
     "execution_count": 206,
     "metadata": {},
     "output_type": "execute_result"
    }
   ],
   "source": [
    "xgb = XGBClassifier(random_state = 33)\n",
    "# Setting Parameters for xgb . \n",
    "\n",
    "params = {\n",
    "        'learning_rate': [0.01, 0.1],\n",
    "        'max_depth': [3, 5, 7, 10],\n",
    "        'min_child_weight': [1, 3, 5],\n",
    "        'n_estimators' : [50,100,150,200]\n",
    "        \n",
    "    }\n",
    "xgb = RandomizedSearchCV(xgb,param_distributions = params,cv = 10,random_state = 33)\n",
    "xgb.fit(x,y)\n",
    "xgb.best_params_"
   ]
  },
  {
   "cell_type": "code",
   "execution_count": 207,
   "metadata": {},
   "outputs": [
    {
     "name": "stdout",
     "output_type": "stream",
     "text": [
      "              precision    recall  f1-score   support\n",
      "\n",
      "           0       0.99      0.98      0.99       692\n",
      "           1       0.98      0.99      0.99       674\n",
      "\n",
      "    accuracy                           0.99      1366\n",
      "   macro avg       0.99      0.99      0.99      1366\n",
      "weighted avg       0.99      0.99      0.99      1366\n",
      "\n"
     ]
    }
   ],
   "source": [
    "# FOR Training data . \n",
    "y_train_pred = xgb.predict(x)\n",
    "print(classification_report(y_train_pred,y))"
   ]
  },
  {
   "cell_type": "code",
   "execution_count": 208,
   "metadata": {},
   "outputs": [
    {
     "name": "stdout",
     "output_type": "stream",
     "text": [
      "[[678  14]\n",
      " [  5 669]]\n"
     ]
    }
   ],
   "source": [
    "print(confusion_matrix(y_train_pred,y))"
   ]
  },
  {
   "cell_type": "code",
   "execution_count": 209,
   "metadata": {},
   "outputs": [
    {
     "data": {
      "text/plain": [
       "array([1, 0, 1, 1, 1, 0, 1, 0, 0, 1, 0, 1, 1, 0, 1, 1, 1, 1, 1, 0, 1, 1,\n",
       "       1, 1, 1, 1, 1, 1, 1, 1, 1, 0, 0, 1, 0, 1], dtype=int64)"
      ]
     },
     "execution_count": 209,
     "metadata": {},
     "output_type": "execute_result"
    }
   ],
   "source": [
    "# for test data . \n",
    "ytest = xgb.predict(test)\n",
    "ytest.ravel()"
   ]
  },
  {
   "cell_type": "code",
   "execution_count": 210,
   "metadata": {},
   "outputs": [],
   "source": [
    "# Note : i'm feeling the result of xgboost model is  overfitted ! \n",
    "# again we can't sure anything 100% due to less availablity of data . "
   ]
  },
  {
   "cell_type": "markdown",
   "metadata": {},
   "source": [
    "# Conclusion ( points  to be considered for less risk  )\n",
    "* age should be between 28-40 \n",
    "* people should be skilled w.r.t thier job .\n",
    "* house should be of own .\n",
    "* sav_acc and check_acc history should be good wrt transaction .\n",
    "* credit amount should be high and duration should be 1 - 2.5 years ( it depends on purpose )\n",
    "* pupose should be car or equipment or tv realted loans ."
   ]
  },
  {
   "cell_type": "markdown",
   "metadata": {},
   "source": [
    "# saving model locally,"
   ]
  },
  {
   "cell_type": "code",
   "execution_count": 211,
   "metadata": {},
   "outputs": [],
   "source": [
    "# i am going to choose XGBOOST as my final model because of it's performance "
   ]
  },
  {
   "cell_type": "code",
   "execution_count": 212,
   "metadata": {},
   "outputs": [],
   "source": [
    "import pickle"
   ]
  },
  {
   "cell_type": "code",
   "execution_count": 213,
   "metadata": {},
   "outputs": [],
   "source": [
    "filename = 'finalized_model.pickle'\n",
    "pickle.dump(xgb, open(filename, 'wb'))"
   ]
  }
 ],
 "metadata": {
  "kernelspec": {
   "display_name": "Python 3",
   "language": "python",
   "name": "python3"
  },
  "language_info": {
   "codemirror_mode": {
    "name": "ipython",
    "version": 3
   },
   "file_extension": ".py",
   "mimetype": "text/x-python",
   "name": "python",
   "nbconvert_exporter": "python",
   "pygments_lexer": "ipython3",
   "version": "3.8.3"
  }
 },
 "nbformat": 4,
 "nbformat_minor": 4
}
