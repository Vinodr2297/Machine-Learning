{
 "cells": [
  {
   "cell_type": "markdown",
   "metadata": {},
   "source": [
    "# Back order Prediction "
   ]
  },
  {
   "cell_type": "code",
   "execution_count": 99,
   "metadata": {
    "colab": {},
    "colab_type": "code",
    "id": "WlGKiAJ8Lftb"
   },
   "outputs": [],
   "source": [
    "import pandas as pd\n",
    "import numpy  as np\n",
    "import seaborn as sns\n",
    "import matplotlib.pyplot as plt\n",
    "sns.set_style('darkgrid')\n",
    "%matplotlib inline \n",
    "\n",
    "import warnings\n",
    "warnings.filterwarnings(\"ignore\")"
   ]
  },
  {
   "cell_type": "code",
   "execution_count": 100,
   "metadata": {
    "colab": {
     "base_uri": "https://localhost:8080/",
     "height": 471
    },
    "colab_type": "code",
    "id": "PEoQ1YHNSc2e",
    "outputId": "63e032f7-5802-4323-981c-3fe534fa2cbe"
   },
   "outputs": [],
   "source": [
    "# \" due to my low end pc i am not consedering entire dataset and it's features . \n",
    "data = pd.read_csv(\"C:/Users/admin/Desktop/Back-Order-Prediction-iNeuron-master/data.csv\",\n",
    "                  usecols = ['potential_issue', 'deck_risk', 'oe_constraint',\n",
    "                             'ppap_risk', 'stop_auto_buy', 'rev_stop', 'went_on_backorder',\n",
    "                            \"national_inv\",\"lead_time\",\"in_transit_qty\",\"min_bank\",\"pieces_past_due\",\"local_bo_qty\"]\n",
    "                  ,nrows = 160000)\n",
    "data = pd.DataFrame(data)"
   ]
  },
  {
   "cell_type": "code",
   "execution_count": 101,
   "metadata": {
    "colab": {
     "base_uri": "https://localhost:8080/",
     "height": 215
    },
    "colab_type": "code",
    "id": "dGPFZKIASrew",
    "outputId": "4b6b92b2-471e-4efc-e0ec-2b80028c035d"
   },
   "outputs": [
    {
     "data": {
      "text/html": [
       "<div>\n",
       "<style scoped>\n",
       "    .dataframe tbody tr th:only-of-type {\n",
       "        vertical-align: middle;\n",
       "    }\n",
       "\n",
       "    .dataframe tbody tr th {\n",
       "        vertical-align: top;\n",
       "    }\n",
       "\n",
       "    .dataframe thead th {\n",
       "        text-align: right;\n",
       "    }\n",
       "</style>\n",
       "<table border=\"1\" class=\"dataframe\">\n",
       "  <thead>\n",
       "    <tr style=\"text-align: right;\">\n",
       "      <th></th>\n",
       "      <th>national_inv</th>\n",
       "      <th>lead_time</th>\n",
       "      <th>in_transit_qty</th>\n",
       "      <th>min_bank</th>\n",
       "      <th>potential_issue</th>\n",
       "      <th>pieces_past_due</th>\n",
       "      <th>local_bo_qty</th>\n",
       "      <th>deck_risk</th>\n",
       "      <th>oe_constraint</th>\n",
       "      <th>ppap_risk</th>\n",
       "      <th>stop_auto_buy</th>\n",
       "      <th>rev_stop</th>\n",
       "      <th>went_on_backorder</th>\n",
       "    </tr>\n",
       "  </thead>\n",
       "  <tbody>\n",
       "    <tr>\n",
       "      <th>0</th>\n",
       "      <td>0</td>\n",
       "      <td>NaN</td>\n",
       "      <td>0</td>\n",
       "      <td>0</td>\n",
       "      <td>No</td>\n",
       "      <td>0</td>\n",
       "      <td>0</td>\n",
       "      <td>No</td>\n",
       "      <td>No</td>\n",
       "      <td>No</td>\n",
       "      <td>Yes</td>\n",
       "      <td>No</td>\n",
       "      <td>No</td>\n",
       "    </tr>\n",
       "    <tr>\n",
       "      <th>1</th>\n",
       "      <td>2</td>\n",
       "      <td>9.0</td>\n",
       "      <td>0</td>\n",
       "      <td>0</td>\n",
       "      <td>No</td>\n",
       "      <td>0</td>\n",
       "      <td>0</td>\n",
       "      <td>No</td>\n",
       "      <td>No</td>\n",
       "      <td>No</td>\n",
       "      <td>Yes</td>\n",
       "      <td>No</td>\n",
       "      <td>No</td>\n",
       "    </tr>\n",
       "    <tr>\n",
       "      <th>2</th>\n",
       "      <td>2</td>\n",
       "      <td>NaN</td>\n",
       "      <td>0</td>\n",
       "      <td>0</td>\n",
       "      <td>No</td>\n",
       "      <td>0</td>\n",
       "      <td>0</td>\n",
       "      <td>Yes</td>\n",
       "      <td>No</td>\n",
       "      <td>No</td>\n",
       "      <td>Yes</td>\n",
       "      <td>No</td>\n",
       "      <td>No</td>\n",
       "    </tr>\n",
       "    <tr>\n",
       "      <th>3</th>\n",
       "      <td>7</td>\n",
       "      <td>8.0</td>\n",
       "      <td>0</td>\n",
       "      <td>1</td>\n",
       "      <td>No</td>\n",
       "      <td>0</td>\n",
       "      <td>0</td>\n",
       "      <td>No</td>\n",
       "      <td>No</td>\n",
       "      <td>No</td>\n",
       "      <td>Yes</td>\n",
       "      <td>No</td>\n",
       "      <td>No</td>\n",
       "    </tr>\n",
       "    <tr>\n",
       "      <th>4</th>\n",
       "      <td>8</td>\n",
       "      <td>NaN</td>\n",
       "      <td>0</td>\n",
       "      <td>2</td>\n",
       "      <td>No</td>\n",
       "      <td>0</td>\n",
       "      <td>0</td>\n",
       "      <td>Yes</td>\n",
       "      <td>No</td>\n",
       "      <td>No</td>\n",
       "      <td>Yes</td>\n",
       "      <td>No</td>\n",
       "      <td>No</td>\n",
       "    </tr>\n",
       "  </tbody>\n",
       "</table>\n",
       "</div>"
      ],
      "text/plain": [
       "   national_inv  lead_time  in_transit_qty  min_bank potential_issue  \\\n",
       "0             0        NaN               0         0              No   \n",
       "1             2        9.0               0         0              No   \n",
       "2             2        NaN               0         0              No   \n",
       "3             7        8.0               0         1              No   \n",
       "4             8        NaN               0         2              No   \n",
       "\n",
       "   pieces_past_due  local_bo_qty deck_risk oe_constraint ppap_risk  \\\n",
       "0                0             0        No            No        No   \n",
       "1                0             0        No            No        No   \n",
       "2                0             0       Yes            No        No   \n",
       "3                0             0        No            No        No   \n",
       "4                0             0       Yes            No        No   \n",
       "\n",
       "  stop_auto_buy rev_stop went_on_backorder  \n",
       "0           Yes       No                No  \n",
       "1           Yes       No                No  \n",
       "2           Yes       No                No  \n",
       "3           Yes       No                No  \n",
       "4           Yes       No                No  "
      ]
     },
     "execution_count": 101,
     "metadata": {},
     "output_type": "execute_result"
    }
   ],
   "source": [
    "data.head()"
   ]
  },
  {
   "cell_type": "code",
   "execution_count": 102,
   "metadata": {
    "colab": {
     "base_uri": "https://localhost:8080/",
     "height": 50
    },
    "colab_type": "code",
    "id": "C1ItaFSUSxSW",
    "outputId": "f7cfc4d1-9c10-4ce5-a39a-5787d700de28"
   },
   "outputs": [
    {
     "name": "stdout",
     "output_type": "stream",
     "text": [
      "Number of rows  :  160000\n",
      "Number of cols  :  13\n"
     ]
    }
   ],
   "source": [
    "print(\"Number of rows  : \",data.shape[0])\n",
    "print(\"Number of cols  : \",data.shape[1])"
   ]
  },
  {
   "cell_type": "code",
   "execution_count": 103,
   "metadata": {
    "colab": {
     "base_uri": "https://localhost:8080/",
     "height": 353
    },
    "colab_type": "code",
    "id": "vtxHCdCxSz_x",
    "outputId": "b6b0ec3e-1969-4330-e7ff-c332ae6ddeb4"
   },
   "outputs": [
    {
     "name": "stdout",
     "output_type": "stream",
     "text": [
      "<class 'pandas.core.frame.DataFrame'>\n",
      "RangeIndex: 160000 entries, 0 to 159999\n",
      "Data columns (total 13 columns):\n",
      " #   Column             Non-Null Count   Dtype  \n",
      "---  ------             --------------   -----  \n",
      " 0   national_inv       160000 non-null  int64  \n",
      " 1   lead_time          150363 non-null  float64\n",
      " 2   in_transit_qty     160000 non-null  int64  \n",
      " 3   min_bank           160000 non-null  int64  \n",
      " 4   potential_issue    160000 non-null  object \n",
      " 5   pieces_past_due    160000 non-null  int64  \n",
      " 6   local_bo_qty       160000 non-null  int64  \n",
      " 7   deck_risk          160000 non-null  object \n",
      " 8   oe_constraint      160000 non-null  object \n",
      " 9   ppap_risk          160000 non-null  object \n",
      " 10  stop_auto_buy      160000 non-null  object \n",
      " 11  rev_stop           160000 non-null  object \n",
      " 12  went_on_backorder  160000 non-null  object \n",
      "dtypes: float64(1), int64(5), object(7)\n",
      "memory usage: 11.6+ MB\n"
     ]
    }
   ],
   "source": [
    "data.info()"
   ]
  },
  {
   "cell_type": "code",
   "execution_count": 104,
   "metadata": {
    "colab": {
     "base_uri": "https://localhost:8080/",
     "height": 151
    },
    "colab_type": "code",
    "id": "jGcqqfKvS3CV",
    "outputId": "c2be5ff1-8c54-44f2-a4a9-4af016049b55"
   },
   "outputs": [
    {
     "name": "stdout",
     "output_type": "stream",
     "text": [
      "Numerical Features : \n",
      " \n",
      "national_inv\n",
      "lead_time\n",
      "in_transit_qty\n",
      "min_bank\n",
      "pieces_past_due\n",
      "local_bo_qty\n"
     ]
    }
   ],
   "source": [
    "# Printing Numerical Features\n",
    "num_col = []\n",
    "print(\"Numerical Features : \\n \")\n",
    "for i in data.columns:\n",
    "    if(data[i].dtype==\"float64\" or data[i].dtype==\"int64\"):\n",
    "        print(i)\n",
    "        num_col.append(i)"
   ]
  },
  {
   "cell_type": "code",
   "execution_count": 105,
   "metadata": {
    "colab": {
     "base_uri": "https://localhost:8080/",
     "height": 67
    },
    "colab_type": "code",
    "id": "6Dc_mvhOS6z3",
    "outputId": "7d1b2f46-1fdc-41e5-f6b0-c99bc7b85422"
   },
   "outputs": [
    {
     "name": "stdout",
     "output_type": "stream",
     "text": [
      "Categorical Features : 7 \n",
      " \n",
      "['potential_issue', 'deck_risk', 'oe_constraint', 'ppap_risk', 'stop_auto_buy', 'rev_stop', 'went_on_backorder']\n"
     ]
    }
   ],
   "source": [
    "# Printing Categorical Features\n",
    "cat_var= []\n",
    "for i in data.columns:\n",
    "    if(data[i].dtype=='object'):\n",
    "        cat_var.append(i)\n",
    "print(\"Categorical Features : {} \\n \".format(len(cat_var)))\n",
    "print(cat_var)"
   ]
  },
  {
   "cell_type": "code",
   "execution_count": 106,
   "metadata": {
    "colab": {
     "base_uri": "https://localhost:8080/",
     "height": 225
    },
    "colab_type": "code",
    "id": "cES2zhL0S8hb",
    "outputId": "82bc846f-4d09-45a3-8fb7-e7d0157f5fee"
   },
   "outputs": [
    {
     "data": {
      "text/html": [
       "<div>\n",
       "<style scoped>\n",
       "    .dataframe tbody tr th:only-of-type {\n",
       "        vertical-align: middle;\n",
       "    }\n",
       "\n",
       "    .dataframe tbody tr th {\n",
       "        vertical-align: top;\n",
       "    }\n",
       "\n",
       "    .dataframe thead th {\n",
       "        text-align: right;\n",
       "    }\n",
       "</style>\n",
       "<table border=\"1\" class=\"dataframe\">\n",
       "  <thead>\n",
       "    <tr style=\"text-align: right;\">\n",
       "      <th></th>\n",
       "      <th>count</th>\n",
       "      <th>mean</th>\n",
       "      <th>std</th>\n",
       "      <th>min</th>\n",
       "      <th>25%</th>\n",
       "      <th>50%</th>\n",
       "      <th>75%</th>\n",
       "      <th>max</th>\n",
       "    </tr>\n",
       "  </thead>\n",
       "  <tbody>\n",
       "    <tr>\n",
       "      <th>national_inv</th>\n",
       "      <td>160000.0</td>\n",
       "      <td>551.990037</td>\n",
       "      <td>36119.488776</td>\n",
       "      <td>-13491.0</td>\n",
       "      <td>4.0</td>\n",
       "      <td>15.0</td>\n",
       "      <td>81.0</td>\n",
       "      <td>12334404.0</td>\n",
       "    </tr>\n",
       "    <tr>\n",
       "      <th>lead_time</th>\n",
       "      <td>150363.0</td>\n",
       "      <td>7.862180</td>\n",
       "      <td>7.028825</td>\n",
       "      <td>0.0</td>\n",
       "      <td>4.0</td>\n",
       "      <td>8.0</td>\n",
       "      <td>9.0</td>\n",
       "      <td>52.0</td>\n",
       "    </tr>\n",
       "    <tr>\n",
       "      <th>in_transit_qty</th>\n",
       "      <td>160000.0</td>\n",
       "      <td>44.209063</td>\n",
       "      <td>1298.224715</td>\n",
       "      <td>0.0</td>\n",
       "      <td>0.0</td>\n",
       "      <td>0.0</td>\n",
       "      <td>0.0</td>\n",
       "      <td>288960.0</td>\n",
       "    </tr>\n",
       "    <tr>\n",
       "      <th>min_bank</th>\n",
       "      <td>160000.0</td>\n",
       "      <td>56.996856</td>\n",
       "      <td>1439.688754</td>\n",
       "      <td>0.0</td>\n",
       "      <td>0.0</td>\n",
       "      <td>0.0</td>\n",
       "      <td>3.0</td>\n",
       "      <td>309667.0</td>\n",
       "    </tr>\n",
       "    <tr>\n",
       "      <th>pieces_past_due</th>\n",
       "      <td>160000.0</td>\n",
       "      <td>2.121856</td>\n",
       "      <td>221.699684</td>\n",
       "      <td>0.0</td>\n",
       "      <td>0.0</td>\n",
       "      <td>0.0</td>\n",
       "      <td>0.0</td>\n",
       "      <td>74084.0</td>\n",
       "    </tr>\n",
       "    <tr>\n",
       "      <th>local_bo_qty</th>\n",
       "      <td>160000.0</td>\n",
       "      <td>0.671925</td>\n",
       "      <td>37.042995</td>\n",
       "      <td>0.0</td>\n",
       "      <td>0.0</td>\n",
       "      <td>0.0</td>\n",
       "      <td>0.0</td>\n",
       "      <td>10024.0</td>\n",
       "    </tr>\n",
       "  </tbody>\n",
       "</table>\n",
       "</div>"
      ],
      "text/plain": [
       "                    count        mean           std      min  25%   50%   75%  \\\n",
       "national_inv     160000.0  551.990037  36119.488776 -13491.0  4.0  15.0  81.0   \n",
       "lead_time        150363.0    7.862180      7.028825      0.0  4.0   8.0   9.0   \n",
       "in_transit_qty   160000.0   44.209063   1298.224715      0.0  0.0   0.0   0.0   \n",
       "min_bank         160000.0   56.996856   1439.688754      0.0  0.0   0.0   3.0   \n",
       "pieces_past_due  160000.0    2.121856    221.699684      0.0  0.0   0.0   0.0   \n",
       "local_bo_qty     160000.0    0.671925     37.042995      0.0  0.0   0.0   0.0   \n",
       "\n",
       "                        max  \n",
       "national_inv     12334404.0  \n",
       "lead_time              52.0  \n",
       "in_transit_qty     288960.0  \n",
       "min_bank           309667.0  \n",
       "pieces_past_due     74084.0  \n",
       "local_bo_qty        10024.0  "
      ]
     },
     "execution_count": 106,
     "metadata": {},
     "output_type": "execute_result"
    }
   ],
   "source": [
    "# data Description\n",
    "data.describe().T"
   ]
  },
  {
   "cell_type": "code",
   "execution_count": 107,
   "metadata": {
    "colab": {
     "base_uri": "https://localhost:8080/",
     "height": 432
    },
    "colab_type": "code",
    "id": "KjXAUYazS-P2",
    "outputId": "24accbce-f529-44b1-b7fa-f33bf4d0759b"
   },
   "outputs": [
    {
     "data": {
      "text/html": [
       "<div>\n",
       "<style scoped>\n",
       "    .dataframe tbody tr th:only-of-type {\n",
       "        vertical-align: middle;\n",
       "    }\n",
       "\n",
       "    .dataframe tbody tr th {\n",
       "        vertical-align: top;\n",
       "    }\n",
       "\n",
       "    .dataframe thead th {\n",
       "        text-align: right;\n",
       "    }\n",
       "</style>\n",
       "<table border=\"1\" class=\"dataframe\">\n",
       "  <thead>\n",
       "    <tr style=\"text-align: right;\">\n",
       "      <th></th>\n",
       "      <th>col_names</th>\n",
       "      <th>missing_val_percent</th>\n",
       "    </tr>\n",
       "  </thead>\n",
       "  <tbody>\n",
       "    <tr>\n",
       "      <th>national_inv</th>\n",
       "      <td>national_inv</td>\n",
       "      <td>0.000000</td>\n",
       "    </tr>\n",
       "    <tr>\n",
       "      <th>lead_time</th>\n",
       "      <td>lead_time</td>\n",
       "      <td>6.023125</td>\n",
       "    </tr>\n",
       "    <tr>\n",
       "      <th>in_transit_qty</th>\n",
       "      <td>in_transit_qty</td>\n",
       "      <td>0.000000</td>\n",
       "    </tr>\n",
       "    <tr>\n",
       "      <th>min_bank</th>\n",
       "      <td>min_bank</td>\n",
       "      <td>0.000000</td>\n",
       "    </tr>\n",
       "    <tr>\n",
       "      <th>potential_issue</th>\n",
       "      <td>potential_issue</td>\n",
       "      <td>0.000000</td>\n",
       "    </tr>\n",
       "    <tr>\n",
       "      <th>pieces_past_due</th>\n",
       "      <td>pieces_past_due</td>\n",
       "      <td>0.000000</td>\n",
       "    </tr>\n",
       "    <tr>\n",
       "      <th>local_bo_qty</th>\n",
       "      <td>local_bo_qty</td>\n",
       "      <td>0.000000</td>\n",
       "    </tr>\n",
       "    <tr>\n",
       "      <th>deck_risk</th>\n",
       "      <td>deck_risk</td>\n",
       "      <td>0.000000</td>\n",
       "    </tr>\n",
       "    <tr>\n",
       "      <th>oe_constraint</th>\n",
       "      <td>oe_constraint</td>\n",
       "      <td>0.000000</td>\n",
       "    </tr>\n",
       "    <tr>\n",
       "      <th>ppap_risk</th>\n",
       "      <td>ppap_risk</td>\n",
       "      <td>0.000000</td>\n",
       "    </tr>\n",
       "    <tr>\n",
       "      <th>stop_auto_buy</th>\n",
       "      <td>stop_auto_buy</td>\n",
       "      <td>0.000000</td>\n",
       "    </tr>\n",
       "    <tr>\n",
       "      <th>rev_stop</th>\n",
       "      <td>rev_stop</td>\n",
       "      <td>0.000000</td>\n",
       "    </tr>\n",
       "    <tr>\n",
       "      <th>went_on_backorder</th>\n",
       "      <td>went_on_backorder</td>\n",
       "      <td>0.000000</td>\n",
       "    </tr>\n",
       "  </tbody>\n",
       "</table>\n",
       "</div>"
      ],
      "text/plain": [
       "                           col_names  missing_val_percent\n",
       "national_inv            national_inv             0.000000\n",
       "lead_time                  lead_time             6.023125\n",
       "in_transit_qty        in_transit_qty             0.000000\n",
       "min_bank                    min_bank             0.000000\n",
       "potential_issue      potential_issue             0.000000\n",
       "pieces_past_due      pieces_past_due             0.000000\n",
       "local_bo_qty            local_bo_qty             0.000000\n",
       "deck_risk                  deck_risk             0.000000\n",
       "oe_constraint          oe_constraint             0.000000\n",
       "ppap_risk                  ppap_risk             0.000000\n",
       "stop_auto_buy          stop_auto_buy             0.000000\n",
       "rev_stop                    rev_stop             0.000000\n",
       "went_on_backorder  went_on_backorder             0.000000"
      ]
     },
     "execution_count": 107,
     "metadata": {},
     "output_type": "execute_result"
    }
   ],
   "source": [
    "# Missing value Percentage from each column .\n",
    "\n",
    "missing_val_percent = data.isnull().sum()*100/len(data) \n",
    "missing_data = pd.DataFrame({\"col_names\":data.columns,\n",
    "                             'missing_val_percent': missing_val_percent})\n",
    "missing_data"
   ]
  },
  {
   "cell_type": "code",
   "execution_count": 108,
   "metadata": {
    "colab": {},
    "colab_type": "code",
    "id": "JjuSZPTPTGzQ"
   },
   "outputs": [],
   "source": [
    "# impute numerical features which are having missing values with it's mean value \n",
    "for i in num_col:\n",
    "    data[i] = data[i].fillna(data[i].mean())"
   ]
  },
  {
   "cell_type": "code",
   "execution_count": 109,
   "metadata": {
    "colab": {
     "base_uri": "https://localhost:8080/",
     "height": 151
    },
    "colab_type": "code",
    "id": "rXmhQLojTJQN",
    "outputId": "9883637a-5da3-4439-f7e1-e2aeb22fb106"
   },
   "outputs": [
    {
     "data": {
      "text/plain": [
       "potential_issue      0\n",
       "deck_risk            0\n",
       "oe_constraint        0\n",
       "ppap_risk            0\n",
       "stop_auto_buy        0\n",
       "rev_stop             0\n",
       "went_on_backorder    0\n",
       "dtype: int64"
      ]
     },
     "execution_count": 109,
     "metadata": {},
     "output_type": "execute_result"
    }
   ],
   "source": [
    "#  categorical  features which are having missing values\n",
    "data[cat_var].isnull().sum()"
   ]
  },
  {
   "cell_type": "code",
   "execution_count": 110,
   "metadata": {
    "colab": {
     "base_uri": "https://localhost:8080/",
     "height": 874
    },
    "colab_type": "code",
    "id": "Jy3bGt4ZTNIj",
    "outputId": "baf50c74-d335-4871-eb1c-f8b0ff07d136"
   },
   "outputs": [
    {
     "name": "stdout",
     "output_type": "stream",
     "text": [
      "Unique Value's in each categorical columns  : \n",
      "\n",
      "column name :  potential_issue\n",
      "No     159926\n",
      "Yes        74\n",
      "Name: potential_issue, dtype: int64\n",
      "\n",
      " ***************************************** \n",
      " \n",
      "column name :  deck_risk\n",
      "No     121884\n",
      "Yes     38116\n",
      "Name: deck_risk, dtype: int64\n",
      "\n",
      " ***************************************** \n",
      " \n",
      "column name :  oe_constraint\n",
      "No     159978\n",
      "Yes        22\n",
      "Name: oe_constraint, dtype: int64\n",
      "\n",
      " ***************************************** \n",
      " \n",
      "column name :  ppap_risk\n",
      "No     140328\n",
      "Yes     19672\n",
      "Name: ppap_risk, dtype: int64\n",
      "\n",
      " ***************************************** \n",
      " \n",
      "column name :  stop_auto_buy\n",
      "Yes    154351\n",
      "No       5649\n",
      "Name: stop_auto_buy, dtype: int64\n",
      "\n",
      " ***************************************** \n",
      " \n",
      "column name :  rev_stop\n",
      "No     159936\n",
      "Yes        64\n",
      "Name: rev_stop, dtype: int64\n",
      "\n",
      " ***************************************** \n",
      " \n",
      "column name :  went_on_backorder\n",
      "No     158395\n",
      "Yes      1605\n",
      "Name: went_on_backorder, dtype: int64\n",
      "\n",
      " ***************************************** \n",
      " \n"
     ]
    }
   ],
   "source": [
    "print(\"Unique Value's in each categorical columns  : \\n\" )\n",
    "for i in  cat_var:\n",
    "    print(\"column name : \",i)\n",
    "    print(data[i].value_counts())\n",
    "    print(\"\\n ***************************************** \\n \")"
   ]
  },
  {
   "cell_type": "code",
   "execution_count": 111,
   "metadata": {
    "colab": {},
    "colab_type": "code",
    "id": "3zv-ST6zTQFF"
   },
   "outputs": [],
   "source": [
    "# let's fill rows with missing value from categorical value ,\n",
    "data['potential_issue'] = data.potential_issue.fillna('No')\n",
    "data['deck_risk'] = data.deck_risk.fillna('No')\n",
    "data['oe_constraint'] = data.oe_constraint.fillna('No')\n",
    "data['ppap_risk'] = data.ppap_risk.fillna('No')\n",
    "data['stop_auto_buy'] = data.stop_auto_buy.fillna(\"Yes\")\n",
    "data['rev_stop'] = data.rev_stop.fillna('No')\n",
    "data['went_on_backorder'] = data.went_on_backorder.fillna('No')"
   ]
  },
  {
   "cell_type": "markdown",
   "metadata": {
    "colab_type": "text",
    "id": "dib_skYwTb2e"
   },
   "source": [
    "Feature Extraction using PCA"
   ]
  },
  {
   "cell_type": "code",
   "execution_count": 112,
   "metadata": {
    "colab": {},
    "colab_type": "code",
    "id": "yOaqrnJGTQ9z"
   },
   "outputs": [],
   "source": [
    "# apply scaling on  numerical features . \n",
    "num_data = data[num_col]\n",
    "\n",
    "from sklearn.preprocessing import StandardScaler\n",
    "ss = StandardScaler()\n",
    "scaled_data = ss.fit_transform(num_data)"
   ]
  },
  {
   "cell_type": "code",
   "execution_count": 113,
   "metadata": {
    "colab": {
     "base_uri": "https://localhost:8080/",
     "height": 195
    },
    "colab_type": "code",
    "id": "oSb8DYd9TgxZ",
    "outputId": "0d4ac6eb-2894-4709-caff-356c5402e66c"
   },
   "outputs": [
    {
     "data": {
      "text/html": [
       "<div>\n",
       "<style scoped>\n",
       "    .dataframe tbody tr th:only-of-type {\n",
       "        vertical-align: middle;\n",
       "    }\n",
       "\n",
       "    .dataframe tbody tr th {\n",
       "        vertical-align: top;\n",
       "    }\n",
       "\n",
       "    .dataframe thead th {\n",
       "        text-align: right;\n",
       "    }\n",
       "</style>\n",
       "<table border=\"1\" class=\"dataframe\">\n",
       "  <thead>\n",
       "    <tr style=\"text-align: right;\">\n",
       "      <th></th>\n",
       "      <th>national_inv</th>\n",
       "      <th>lead_time</th>\n",
       "      <th>in_transit_qty</th>\n",
       "      <th>min_bank</th>\n",
       "      <th>pieces_past_due</th>\n",
       "      <th>local_bo_qty</th>\n",
       "    </tr>\n",
       "  </thead>\n",
       "  <tbody>\n",
       "    <tr>\n",
       "      <th>0</th>\n",
       "      <td>-0.015282</td>\n",
       "      <td>2.606984e-16</td>\n",
       "      <td>-0.034054</td>\n",
       "      <td>-0.039590</td>\n",
       "      <td>-0.009571</td>\n",
       "      <td>-0.018139</td>\n",
       "    </tr>\n",
       "    <tr>\n",
       "      <th>1</th>\n",
       "      <td>-0.015227</td>\n",
       "      <td>1.669866e-01</td>\n",
       "      <td>-0.034054</td>\n",
       "      <td>-0.039590</td>\n",
       "      <td>-0.009571</td>\n",
       "      <td>-0.018139</td>\n",
       "    </tr>\n",
       "    <tr>\n",
       "      <th>2</th>\n",
       "      <td>-0.015227</td>\n",
       "      <td>2.606984e-16</td>\n",
       "      <td>-0.034054</td>\n",
       "      <td>-0.039590</td>\n",
       "      <td>-0.009571</td>\n",
       "      <td>-0.018139</td>\n",
       "    </tr>\n",
       "    <tr>\n",
       "      <th>3</th>\n",
       "      <td>-0.015089</td>\n",
       "      <td>2.022646e-02</td>\n",
       "      <td>-0.034054</td>\n",
       "      <td>-0.038895</td>\n",
       "      <td>-0.009571</td>\n",
       "      <td>-0.018139</td>\n",
       "    </tr>\n",
       "    <tr>\n",
       "      <th>4</th>\n",
       "      <td>-0.015061</td>\n",
       "      <td>2.606984e-16</td>\n",
       "      <td>-0.034054</td>\n",
       "      <td>-0.038201</td>\n",
       "      <td>-0.009571</td>\n",
       "      <td>-0.018139</td>\n",
       "    </tr>\n",
       "  </tbody>\n",
       "</table>\n",
       "</div>"
      ],
      "text/plain": [
       "   national_inv     lead_time  in_transit_qty  min_bank  pieces_past_due  \\\n",
       "0     -0.015282  2.606984e-16       -0.034054 -0.039590        -0.009571   \n",
       "1     -0.015227  1.669866e-01       -0.034054 -0.039590        -0.009571   \n",
       "2     -0.015227  2.606984e-16       -0.034054 -0.039590        -0.009571   \n",
       "3     -0.015089  2.022646e-02       -0.034054 -0.038895        -0.009571   \n",
       "4     -0.015061  2.606984e-16       -0.034054 -0.038201        -0.009571   \n",
       "\n",
       "   local_bo_qty  \n",
       "0     -0.018139  \n",
       "1     -0.018139  \n",
       "2     -0.018139  \n",
       "3     -0.018139  \n",
       "4     -0.018139  "
      ]
     },
     "execution_count": 113,
     "metadata": {},
     "output_type": "execute_result"
    }
   ],
   "source": [
    "scaled_data = pd.DataFrame(scaled_data,columns  = num_data.columns)\n",
    "scaled_data.head()"
   ]
  },
  {
   "cell_type": "code",
   "execution_count": 114,
   "metadata": {
    "colab": {},
    "colab_type": "code",
    "id": "ReDYj3iXTiku"
   },
   "outputs": [],
   "source": [
    "# import PCA \n",
    "from sklearn.decomposition import PCA\n",
    "pca = PCA()\n",
    "principal_components = pca.fit_transform(scaled_data)\n"
   ]
  },
  {
   "cell_type": "code",
   "execution_count": 115,
   "metadata": {
    "colab": {
     "base_uri": "https://localhost:8080/",
     "height": 50
    },
    "colab_type": "code",
    "id": "w9UG896WVWMt",
    "outputId": "d8ddf04d-ab8d-426f-e49b-4e3930ce804d"
   },
   "outputs": [
    {
     "data": {
      "text/plain": [
       "array([0.3530604 , 0.17038916, 0.16660252, 0.16586996, 0.12229103,\n",
       "       0.02178694])"
      ]
     },
     "execution_count": 115,
     "metadata": {},
     "output_type": "execute_result"
    }
   ],
   "source": [
    "pca.explained_variance_ratio_"
   ]
  },
  {
   "cell_type": "code",
   "execution_count": 116,
   "metadata": {
    "colab": {
     "base_uri": "https://localhost:8080/",
     "height": 50
    },
    "colab_type": "code",
    "id": "CyQKZ-EOVWX4",
    "outputId": "e3b41c5e-18d8-4f84-b316-573b72feb82a"
   },
   "outputs": [
    {
     "data": {
      "text/plain": [
       "array([0.3530604 , 0.52344956, 0.69005207, 0.85592203, 0.97821306,\n",
       "       1.        ])"
      ]
     },
     "execution_count": 116,
     "metadata": {},
     "output_type": "execute_result"
    }
   ],
   "source": [
    "np.cumsum(pca.explained_variance_ratio_)"
   ]
  },
  {
   "cell_type": "code",
   "execution_count": 117,
   "metadata": {
    "colab": {
     "base_uri": "https://localhost:8080/",
     "height": 279
    },
    "colab_type": "code",
    "id": "sg2OHRaYVU9t",
    "outputId": "03738833-3c9a-4078-8eae-fe5ebec6a5bf"
   },
   "outputs": [
    {
     "data": {
      "image/png": "[encoded data removed]",
      "text/plain": [
       "<Figure size 432x288 with 1 Axes>"
      ]
     },
     "metadata": {
      "needs_background": "light"
     },
     "output_type": "display_data"
    }
   ],
   "source": [
    "plt.plot(np.cumsum(pca.explained_variance_ratio_))\n",
    "plt.xlabel(\"Number Principal components \")\n",
    "plt.ylabel(\"Variance Percentage \")\n",
    "plt.show()"
   ]
  },
  {
   "cell_type": "code",
   "execution_count": 118,
   "metadata": {
    "colab": {
     "base_uri": "https://localhost:8080/",
     "height": 212
    },
    "colab_type": "code",
    "id": "i-GXEZY9VkB8",
    "outputId": "8b8ec065-8272-45c8-a1c3-4d62ed1eb57c"
   },
   "outputs": [
    {
     "name": "stdout",
     "output_type": "stream",
     "text": [
      "160000\n"
     ]
    },
    {
     "data": {
      "text/html": [
       "<div>\n",
       "<style scoped>\n",
       "    .dataframe tbody tr th:only-of-type {\n",
       "        vertical-align: middle;\n",
       "    }\n",
       "\n",
       "    .dataframe tbody tr th {\n",
       "        vertical-align: top;\n",
       "    }\n",
       "\n",
       "    .dataframe thead th {\n",
       "        text-align: right;\n",
       "    }\n",
       "</style>\n",
       "<table border=\"1\" class=\"dataframe\">\n",
       "  <thead>\n",
       "    <tr style=\"text-align: right;\">\n",
       "      <th></th>\n",
       "      <th>PC1</th>\n",
       "      <th>PC2</th>\n",
       "      <th>PC3</th>\n",
       "      <th>PC4</th>\n",
       "    </tr>\n",
       "  </thead>\n",
       "  <tbody>\n",
       "    <tr>\n",
       "      <th>0</th>\n",
       "      <td>-0.054647</td>\n",
       "      <td>0.003410</td>\n",
       "      <td>-0.005431</td>\n",
       "      <td>-0.015428</td>\n",
       "    </tr>\n",
       "    <tr>\n",
       "      <th>1</th>\n",
       "      <td>-0.055828</td>\n",
       "      <td>0.034525</td>\n",
       "      <td>0.151834</td>\n",
       "      <td>-0.062017</td>\n",
       "    </tr>\n",
       "    <tr>\n",
       "      <th>2</th>\n",
       "      <td>-0.054629</td>\n",
       "      <td>0.003452</td>\n",
       "      <td>-0.005434</td>\n",
       "      <td>-0.015412</td>\n",
       "    </tr>\n",
       "    <tr>\n",
       "      <th>3</th>\n",
       "      <td>-0.054276</td>\n",
       "      <td>0.007398</td>\n",
       "      <td>0.013599</td>\n",
       "      <td>-0.020996</td>\n",
       "    </tr>\n",
       "    <tr>\n",
       "      <th>4</th>\n",
       "      <td>-0.053670</td>\n",
       "      <td>0.003733</td>\n",
       "      <td>-0.005461</td>\n",
       "      <td>-0.015323</td>\n",
       "    </tr>\n",
       "  </tbody>\n",
       "</table>\n",
       "</div>"
      ],
      "text/plain": [
       "        PC1       PC2       PC3       PC4\n",
       "0 -0.054647  0.003410 -0.005431 -0.015428\n",
       "1 -0.055828  0.034525  0.151834 -0.062017\n",
       "2 -0.054629  0.003452 -0.005434 -0.015412\n",
       "3 -0.054276  0.007398  0.013599 -0.020996\n",
       "4 -0.053670  0.003733 -0.005461 -0.015323"
      ]
     },
     "execution_count": 118,
     "metadata": {},
     "output_type": "execute_result"
    }
   ],
   "source": [
    "pca =  PCA(n_components = 4)\n",
    "pca_data = pca.fit_transform(scaled_data)\n",
    "pca_data = pd.DataFrame(pca_data,\n",
    "columns =['PC1','PC2','PC3','PC4'])\n",
    "print(pca_data.shape[0])\n",
    "pca_data.head()"
   ]
  },
  {
   "cell_type": "code",
   "execution_count": 119,
   "metadata": {
    "colab": {},
    "colab_type": "code",
    "id": "GYme2KSnVwl8"
   },
   "outputs": [],
   "source": [
    "# Convert all catergorical variable to numeric variable."
   ]
  },
  {
   "cell_type": "code",
   "execution_count": 120,
   "metadata": {
    "colab": {
     "base_uri": "https://localhost:8080/",
     "height": 337
    },
    "colab_type": "code",
    "id": "J4KIDxr6WCqW",
    "outputId": "f2f57afc-c98d-4585-a76e-daac9f4f2e20"
   },
   "outputs": [],
   "source": [
    "\n",
    "data['potential_issue'] = data['potential_issue'].map({\"No\":0,\"Yes\":1})\n",
    "data[\"deck_risk\"]       = data[\"deck_risk\"].map({\"No\":0,\"Yes\":1})\n",
    "data[\"oe_constraint\"]   = data[\"oe_constraint\"].map({\"No\":0,\"Yes\":1})\n",
    "data[\"ppap_risk\"]       = data[\"ppap_risk\"].map({\"No\":0,\"Yes\":1})\n",
    "data[\"stop_auto_buy\"]   = data[\"stop_auto_buy\"].map({\"No\":0,\"Yes\":1})\n",
    "data[\"rev_stop\"]        = data[\"rev_stop\"].map({\"No\":0,\"Yes\":1})\n",
    "data[\"went_on_backorder\"] = data[\"went_on_backorder\"].map({\"No\":0,\"Yes\":1})"
   ]
  },
  {
   "cell_type": "code",
   "execution_count": 121,
   "metadata": {},
   "outputs": [
    {
     "name": "stdout",
     "output_type": "stream",
     "text": [
      "categorical data shape :  (160000, 7)\n"
     ]
    },
    {
     "data": {
      "text/html": [
       "<div>\n",
       "<style scoped>\n",
       "    .dataframe tbody tr th:only-of-type {\n",
       "        vertical-align: middle;\n",
       "    }\n",
       "\n",
       "    .dataframe tbody tr th {\n",
       "        vertical-align: top;\n",
       "    }\n",
       "\n",
       "    .dataframe thead th {\n",
       "        text-align: right;\n",
       "    }\n",
       "</style>\n",
       "<table border=\"1\" class=\"dataframe\">\n",
       "  <thead>\n",
       "    <tr style=\"text-align: right;\">\n",
       "      <th></th>\n",
       "      <th>potential_issue</th>\n",
       "      <th>deck_risk</th>\n",
       "      <th>oe_constraint</th>\n",
       "      <th>ppap_risk</th>\n",
       "      <th>stop_auto_buy</th>\n",
       "      <th>rev_stop</th>\n",
       "      <th>went_on_backorder</th>\n",
       "    </tr>\n",
       "  </thead>\n",
       "  <tbody>\n",
       "    <tr>\n",
       "      <th>0</th>\n",
       "      <td>0</td>\n",
       "      <td>0</td>\n",
       "      <td>0</td>\n",
       "      <td>0</td>\n",
       "      <td>1</td>\n",
       "      <td>0</td>\n",
       "      <td>0</td>\n",
       "    </tr>\n",
       "    <tr>\n",
       "      <th>1</th>\n",
       "      <td>0</td>\n",
       "      <td>0</td>\n",
       "      <td>0</td>\n",
       "      <td>0</td>\n",
       "      <td>1</td>\n",
       "      <td>0</td>\n",
       "      <td>0</td>\n",
       "    </tr>\n",
       "    <tr>\n",
       "      <th>2</th>\n",
       "      <td>0</td>\n",
       "      <td>1</td>\n",
       "      <td>0</td>\n",
       "      <td>0</td>\n",
       "      <td>1</td>\n",
       "      <td>0</td>\n",
       "      <td>0</td>\n",
       "    </tr>\n",
       "    <tr>\n",
       "      <th>3</th>\n",
       "      <td>0</td>\n",
       "      <td>0</td>\n",
       "      <td>0</td>\n",
       "      <td>0</td>\n",
       "      <td>1</td>\n",
       "      <td>0</td>\n",
       "      <td>0</td>\n",
       "    </tr>\n",
       "    <tr>\n",
       "      <th>4</th>\n",
       "      <td>0</td>\n",
       "      <td>1</td>\n",
       "      <td>0</td>\n",
       "      <td>0</td>\n",
       "      <td>1</td>\n",
       "      <td>0</td>\n",
       "      <td>0</td>\n",
       "    </tr>\n",
       "  </tbody>\n",
       "</table>\n",
       "</div>"
      ],
      "text/plain": [
       "   potential_issue  deck_risk  oe_constraint  ppap_risk  stop_auto_buy  \\\n",
       "0                0          0              0          0              1   \n",
       "1                0          0              0          0              1   \n",
       "2                0          1              0          0              1   \n",
       "3                0          0              0          0              1   \n",
       "4                0          1              0          0              1   \n",
       "\n",
       "   rev_stop  went_on_backorder  \n",
       "0         0                  0  \n",
       "1         0                  0  \n",
       "2         0                  0  \n",
       "3         0                  0  \n",
       "4         0                  0  "
      ]
     },
     "execution_count": 121,
     "metadata": {},
     "output_type": "execute_result"
    }
   ],
   "source": [
    "# Creating new DataFrame by combining PCA + Categorical Features\n",
    "cat_data = data[cat_var]\n",
    "num_data = pca_data\n",
    "print(\"categorical data shape : \",cat_data.shape)\n",
    "cat_data.head()"
   ]
  },
  {
   "cell_type": "code",
   "execution_count": 122,
   "metadata": {},
   "outputs": [
    {
     "name": "stdout",
     "output_type": "stream",
     "text": [
      "numerical   data shape :  (160000, 4)\n"
     ]
    },
    {
     "data": {
      "text/html": [
       "<div>\n",
       "<style scoped>\n",
       "    .dataframe tbody tr th:only-of-type {\n",
       "        vertical-align: middle;\n",
       "    }\n",
       "\n",
       "    .dataframe tbody tr th {\n",
       "        vertical-align: top;\n",
       "    }\n",
       "\n",
       "    .dataframe thead th {\n",
       "        text-align: right;\n",
       "    }\n",
       "</style>\n",
       "<table border=\"1\" class=\"dataframe\">\n",
       "  <thead>\n",
       "    <tr style=\"text-align: right;\">\n",
       "      <th></th>\n",
       "      <th>PC1</th>\n",
       "      <th>PC2</th>\n",
       "      <th>PC3</th>\n",
       "      <th>PC4</th>\n",
       "    </tr>\n",
       "  </thead>\n",
       "  <tbody>\n",
       "    <tr>\n",
       "      <th>0</th>\n",
       "      <td>-0.054647</td>\n",
       "      <td>0.003410</td>\n",
       "      <td>-0.005431</td>\n",
       "      <td>-0.015428</td>\n",
       "    </tr>\n",
       "    <tr>\n",
       "      <th>1</th>\n",
       "      <td>-0.055828</td>\n",
       "      <td>0.034525</td>\n",
       "      <td>0.151834</td>\n",
       "      <td>-0.062017</td>\n",
       "    </tr>\n",
       "    <tr>\n",
       "      <th>2</th>\n",
       "      <td>-0.054629</td>\n",
       "      <td>0.003452</td>\n",
       "      <td>-0.005434</td>\n",
       "      <td>-0.015412</td>\n",
       "    </tr>\n",
       "    <tr>\n",
       "      <th>3</th>\n",
       "      <td>-0.054276</td>\n",
       "      <td>0.007398</td>\n",
       "      <td>0.013599</td>\n",
       "      <td>-0.020996</td>\n",
       "    </tr>\n",
       "    <tr>\n",
       "      <th>4</th>\n",
       "      <td>-0.053670</td>\n",
       "      <td>0.003733</td>\n",
       "      <td>-0.005461</td>\n",
       "      <td>-0.015323</td>\n",
       "    </tr>\n",
       "  </tbody>\n",
       "</table>\n",
       "</div>"
      ],
      "text/plain": [
       "        PC1       PC2       PC3       PC4\n",
       "0 -0.054647  0.003410 -0.005431 -0.015428\n",
       "1 -0.055828  0.034525  0.151834 -0.062017\n",
       "2 -0.054629  0.003452 -0.005434 -0.015412\n",
       "3 -0.054276  0.007398  0.013599 -0.020996\n",
       "4 -0.053670  0.003733 -0.005461 -0.015323"
      ]
     },
     "execution_count": 122,
     "metadata": {},
     "output_type": "execute_result"
    }
   ],
   "source": [
    "print(\"numerical   data shape : \",num_data.shape)\n",
    "num_data.head()"
   ]
  },
  {
   "cell_type": "code",
   "execution_count": 123,
   "metadata": {},
   "outputs": [
    {
     "name": "stdout",
     "output_type": "stream",
     "text": [
      "new data shape :  (160000, 11)\n"
     ]
    },
    {
     "data": {
      "text/html": [
       "<div>\n",
       "<style scoped>\n",
       "    .dataframe tbody tr th:only-of-type {\n",
       "        vertical-align: middle;\n",
       "    }\n",
       "\n",
       "    .dataframe tbody tr th {\n",
       "        vertical-align: top;\n",
       "    }\n",
       "\n",
       "    .dataframe thead th {\n",
       "        text-align: right;\n",
       "    }\n",
       "</style>\n",
       "<table border=\"1\" class=\"dataframe\">\n",
       "  <thead>\n",
       "    <tr style=\"text-align: right;\">\n",
       "      <th></th>\n",
       "      <th>potential_issue</th>\n",
       "      <th>deck_risk</th>\n",
       "      <th>oe_constraint</th>\n",
       "      <th>ppap_risk</th>\n",
       "      <th>stop_auto_buy</th>\n",
       "      <th>rev_stop</th>\n",
       "      <th>went_on_backorder</th>\n",
       "      <th>PC1</th>\n",
       "      <th>PC2</th>\n",
       "      <th>PC3</th>\n",
       "      <th>PC4</th>\n",
       "    </tr>\n",
       "  </thead>\n",
       "  <tbody>\n",
       "    <tr>\n",
       "      <th>0</th>\n",
       "      <td>0</td>\n",
       "      <td>0</td>\n",
       "      <td>0</td>\n",
       "      <td>0</td>\n",
       "      <td>1</td>\n",
       "      <td>0</td>\n",
       "      <td>0</td>\n",
       "      <td>-0.054647</td>\n",
       "      <td>0.003410</td>\n",
       "      <td>-0.005431</td>\n",
       "      <td>-0.015428</td>\n",
       "    </tr>\n",
       "    <tr>\n",
       "      <th>1</th>\n",
       "      <td>0</td>\n",
       "      <td>0</td>\n",
       "      <td>0</td>\n",
       "      <td>0</td>\n",
       "      <td>1</td>\n",
       "      <td>0</td>\n",
       "      <td>0</td>\n",
       "      <td>-0.055828</td>\n",
       "      <td>0.034525</td>\n",
       "      <td>0.151834</td>\n",
       "      <td>-0.062017</td>\n",
       "    </tr>\n",
       "    <tr>\n",
       "      <th>2</th>\n",
       "      <td>0</td>\n",
       "      <td>1</td>\n",
       "      <td>0</td>\n",
       "      <td>0</td>\n",
       "      <td>1</td>\n",
       "      <td>0</td>\n",
       "      <td>0</td>\n",
       "      <td>-0.054629</td>\n",
       "      <td>0.003452</td>\n",
       "      <td>-0.005434</td>\n",
       "      <td>-0.015412</td>\n",
       "    </tr>\n",
       "    <tr>\n",
       "      <th>3</th>\n",
       "      <td>0</td>\n",
       "      <td>0</td>\n",
       "      <td>0</td>\n",
       "      <td>0</td>\n",
       "      <td>1</td>\n",
       "      <td>0</td>\n",
       "      <td>0</td>\n",
       "      <td>-0.054276</td>\n",
       "      <td>0.007398</td>\n",
       "      <td>0.013599</td>\n",
       "      <td>-0.020996</td>\n",
       "    </tr>\n",
       "    <tr>\n",
       "      <th>4</th>\n",
       "      <td>0</td>\n",
       "      <td>1</td>\n",
       "      <td>0</td>\n",
       "      <td>0</td>\n",
       "      <td>1</td>\n",
       "      <td>0</td>\n",
       "      <td>0</td>\n",
       "      <td>-0.053670</td>\n",
       "      <td>0.003733</td>\n",
       "      <td>-0.005461</td>\n",
       "      <td>-0.015323</td>\n",
       "    </tr>\n",
       "  </tbody>\n",
       "</table>\n",
       "</div>"
      ],
      "text/plain": [
       "   potential_issue  deck_risk  oe_constraint  ppap_risk  stop_auto_buy  \\\n",
       "0                0          0              0          0              1   \n",
       "1                0          0              0          0              1   \n",
       "2                0          1              0          0              1   \n",
       "3                0          0              0          0              1   \n",
       "4                0          1              0          0              1   \n",
       "\n",
       "   rev_stop  went_on_backorder       PC1       PC2       PC3       PC4  \n",
       "0         0                  0 -0.054647  0.003410 -0.005431 -0.015428  \n",
       "1         0                  0 -0.055828  0.034525  0.151834 -0.062017  \n",
       "2         0                  0 -0.054629  0.003452 -0.005434 -0.015412  \n",
       "3         0                  0 -0.054276  0.007398  0.013599 -0.020996  \n",
       "4         0                  0 -0.053670  0.003733 -0.005461 -0.015323  "
      ]
     },
     "execution_count": 123,
     "metadata": {},
     "output_type": "execute_result"
    }
   ],
   "source": [
    "# concate both cat_data and num_data \n",
    "new_data = pd.concat([cat_data,num_data],axis = 1)\n",
    "print(\"new data shape : \",new_data.shape )\n",
    "new_data.head()"
   ]
  },
  {
   "cell_type": "code",
   "execution_count": 124,
   "metadata": {},
   "outputs": [
    {
     "name": "stdout",
     "output_type": "stream",
     "text": [
      "our target is highly imbalanced\n",
      "0    158395\n",
      "1      1605\n",
      "Name: went_on_backorder, dtype: int64\n"
     ]
    },
    {
     "data": {
      "image/png": "[encoded data removed]",
      "text/plain": [
       "<Figure size 432x288 with 1 Axes>"
      ]
     },
     "metadata": {
      "needs_background": "light"
     },
     "output_type": "display_data"
    }
   ],
   "source": [
    "# check whether our target is Balanced or not \n",
    "print(\"our target is highly imbalanced\")\n",
    "print(new_data[\"went_on_backorder\"].value_counts())\n",
    "sns.countplot(new_data[\"went_on_backorder\"])\n",
    "plt.show()"
   ]
  },
  {
   "cell_type": "code",
   "execution_count": 125,
   "metadata": {},
   "outputs": [],
   "source": [
    "# for simplicity purpose i'll use undersampling technique to make our target balanced ,where target = 0\n",
    "target_zero = new_data[new_data[\"went_on_backorder\"]==0]\n",
    "target_one  = new_data[new_data[\"went_on_backorder\"]==1]"
   ]
  },
  {
   "cell_type": "code",
   "execution_count": 132,
   "metadata": {},
   "outputs": [
    {
     "name": "stdout",
     "output_type": "stream",
     "text": [
      "1    1605\n",
      "0    1605\n",
      "Name: went_on_backorder, dtype: int64\n"
     ]
    },
    {
     "data": {
      "image/png": "[encoded data removed]",
      "text/plain": [
       "<Figure size 432x288 with 1 Axes>"
      ]
     },
     "metadata": {
      "needs_background": "light"
     },
     "output_type": "display_data"
    }
   ],
   "source": [
    "print(\"Our Target is Balanced : \")\n",
    "under_sample = target_zero.sample(n= len(target_one))\n",
    "model_data = pd.concat([under_sample,target_one],axis = 0)\n",
    "print(model_data[\"went_on_backorder\"].value_counts())\n",
    "sns.countplot(model_data[\"went_on_backorder\"])\n",
    "plt.show()"
   ]
  },
  {
   "cell_type": "markdown",
   "metadata": {},
   "source": [
    "# Model Building "
   ]
  },
  {
   "cell_type": "code",
   "execution_count": 134,
   "metadata": {},
   "outputs": [],
   "source": [
    "x = model_data.drop([\"went_on_backorder\"],axis = 1)\n",
    "y = model_data['went_on_backorder']"
   ]
  },
  {
   "cell_type": "code",
   "execution_count": 153,
   "metadata": {},
   "outputs": [
    {
     "name": "stdout",
     "output_type": "stream",
     "text": [
      "Train Set Size :  (2247, 10)\n",
      "Train Target Set Size :  (2247,)\n",
      "Test  Set Size :  (963, 10)\n",
      "Test  Target Set Size :  (963,)\n"
     ]
    }
   ],
   "source": [
    "from sklearn.model_selection import train_test_split\n",
    "from sklearn.metrics import classification_report,confusion_matrix,log_loss\n",
    "from sklearn.metrics import roc_auc_score,roc_curve\n",
    "\n",
    "xtrain,xtest,ytrain,ytest = train_test_split(x,y,test_size = 0.3,random_state = 33)\n",
    "print(\"Train Set Size : \",xtrain.shape)\n",
    "print(\"Train Target Set Size : \",ytrain.shape)\n",
    "print(\"Test  Set Size : \",xtest.shape)\n",
    "print(\"Test  Target Set Size : \",ytest.shape)"
   ]
  },
  {
   "cell_type": "code",
   "execution_count": 154,
   "metadata": {},
   "outputs": [],
   "source": [
    "\n",
    "# Importing GridSearchCv from sklearn in order to find out the optimal Parameter for given Algorithm\n",
    "# that gives best result .\n",
    "\n",
    "from sklearn.model_selection import GridSearchCV"
   ]
  },
  {
   "cell_type": "markdown",
   "metadata": {},
   "source": [
    "# Logistic Regresssion"
   ]
  },
  {
   "cell_type": "code",
   "execution_count": 138,
   "metadata": {},
   "outputs": [
    {
     "data": {
      "text/plain": [
       "{'C': 100, 'penalty': 'l2'}"
      ]
     },
     "execution_count": 138,
     "metadata": {},
     "output_type": "execute_result"
    }
   ],
   "source": [
    "from sklearn.linear_model import LogisticRegression\n",
    "lr = LogisticRegression(random_state = 33 )\n",
    "\n",
    "# Setting Parameters for Logistic Regression . \n",
    "\n",
    "params = {    # Regularization Params\n",
    "             'penalty' : ['l1','l2','elasticnet'],\n",
    "              # Lambda Value \n",
    "             'C' : [0.01,0.1,1,10,100]\n",
    "         }\n",
    "\n",
    "log_reg = GridSearchCV(lr,param_grid = params,cv = 10)\n",
    "log_reg.fit(xtrain,ytrain)\n",
    "log_reg.best_params_"
   ]
  },
  {
   "cell_type": "code",
   "execution_count": 139,
   "metadata": {},
   "outputs": [
    {
     "name": "stdout",
     "output_type": "stream",
     "text": [
      "              precision    recall  f1-score   support\n",
      "\n",
      "           0       0.52      0.75      0.62       465\n",
      "           1       0.61      0.37      0.46       498\n",
      "\n",
      "    accuracy                           0.55       963\n",
      "   macro avg       0.57      0.56      0.54       963\n",
      "weighted avg       0.57      0.55      0.53       963\n",
      "\n"
     ]
    }
   ],
   "source": [
    "# Make Prediction of test data \n",
    "ypred = log_reg.predict(xtest)\n",
    "print(classification_report(ytest,ypred))"
   ]
  },
  {
   "cell_type": "code",
   "execution_count": null,
   "metadata": {},
   "outputs": [],
   "source": [
    "print(\"cost function for Logistic reg \")\n",
    "print(log_loss(ytest,ypred))"
   ]
  },
  {
   "cell_type": "code",
   "execution_count": 140,
   "metadata": {},
   "outputs": [
    {
     "data": {
      "image/png": "[encoded data removed]",
      "text/plain": [
       "<Figure size 432x288 with 2 Axes>"
      ]
     },
     "metadata": {
      "needs_background": "light"
     },
     "output_type": "display_data"
    }
   ],
   "source": [
    "plt.rcParams['figure.figsize'] = (6,4)\n",
    "class_names = [1,0]\n",
    "tick_marks = np.arange(len(class_names))\n",
    "plt.xticks(tick_marks,class_names)\n",
    "plt.yticks(tick_marks,class_names)\n",
    "\n",
    "#create a heat map\n",
    "sns.heatmap(pd.DataFrame(confusion_matrix(ytest,ypred)), annot = True, cmap = 'BuGn_r',\n",
    "           fmt = 'g')\n",
    "plt.tight_layout()\n",
    "plt.title('Confusion matrix for Logistic Regression  Model', y = 1.1)\n",
    "plt.ylabel('Actual label')\n",
    "plt.xlabel('Predicted label')\n",
    "plt.show()"
   ]
  },
  {
   "cell_type": "markdown",
   "metadata": {},
   "source": [
    "# Decision Tree"
   ]
  },
  {
   "cell_type": "code",
   "execution_count": 141,
   "metadata": {},
   "outputs": [
    {
     "data": {
      "text/plain": [
       "{'criterion': 'entropy',\n",
       " 'max_features': 'auto',\n",
       " 'min_samples_leaf': 4,\n",
       " 'min_samples_split': 14}"
      ]
     },
     "execution_count": 141,
     "metadata": {},
     "output_type": "execute_result"
    }
   ],
   "source": [
    "\n",
    "from sklearn.tree import DecisionTreeClassifier \n",
    "\n",
    "dt = DecisionTreeClassifier(random_state = 33)\n",
    "\n",
    "\n",
    "# Setting Parameters for DecisionTreeClassifier . \n",
    "\n",
    "params = {  \n",
    "             'criterion'    : [\"gini\", \"entropy\"],\n",
    "             'max_features' : [\"auto\", \"sqrt\", \"log2\"],\n",
    "              'min_samples_split' :[i for i in range(4,16)],\n",
    "              'min_samples_leaf' : [i for i in range(4,16)]\n",
    "         }\n",
    "\n",
    "dt_clf = GridSearchCV(dt,param_grid = params,cv = 10)\n",
    "dt_clf.fit(xtrain,ytrain)\n",
    "dt_clf.best_params_"
   ]
  },
  {
   "cell_type": "code",
   "execution_count": 142,
   "metadata": {},
   "outputs": [
    {
     "name": "stdout",
     "output_type": "stream",
     "text": [
      "              precision    recall  f1-score   support\n",
      "\n",
      "           0       0.62      0.81      0.70       465\n",
      "           1       0.75      0.54      0.63       498\n",
      "\n",
      "    accuracy                           0.67       963\n",
      "   macro avg       0.69      0.67      0.66       963\n",
      "weighted avg       0.69      0.67      0.66       963\n",
      "\n"
     ]
    }
   ],
   "source": [
    "# Make Prediction of test data \n",
    "ypred = dt_clf.predict(xtest)\n",
    "print(classification_report(ytest,ypred))\n",
    "# did you saw see that accuracy increased in applying decision tree ."
   ]
  },
  {
   "cell_type": "code",
   "execution_count": null,
   "metadata": {},
   "outputs": [],
   "source": [
    "print(\"cost function for Decision Tree\")\n",
    "print(log_loss(ytest,ypred))"
   ]
  },
  {
   "cell_type": "code",
   "execution_count": 143,
   "metadata": {},
   "outputs": [
    {
     "data": {
      "image/png": "[encoded data removed]",
      "text/plain": [
       "<Figure size 432x288 with 2 Axes>"
      ]
     },
     "metadata": {
      "needs_background": "light"
     },
     "output_type": "display_data"
    }
   ],
   "source": [
    "\n",
    "plt.rcParams['figure.figsize'] = (6,4)\n",
    "class_names = [1,0]\n",
    "tick_marks = np.arange(len(class_names))\n",
    "plt.xticks(tick_marks,class_names)\n",
    "plt.yticks(tick_marks,class_names)\n",
    "\n",
    "#create a heat map\n",
    "sns.heatmap(pd.DataFrame(confusion_matrix(ytest,ypred)), annot = True, cmap = 'BuGn_r',\n",
    "           fmt = 'g')\n",
    "plt.tight_layout()\n",
    "plt.title('Confusion matrix for DecisionTreeClassifier   Model', y = 1.1)\n",
    "plt.ylabel('Actual label')\n",
    "plt.xlabel('Predicted label')\n",
    "plt.show()"
   ]
  },
  {
   "cell_type": "markdown",
   "metadata": {},
   "source": [
    "# RandomForestClassifier"
   ]
  },
  {
   "cell_type": "code",
   "execution_count": 155,
   "metadata": {},
   "outputs": [
    {
     "data": {
      "text/plain": [
       "RandomForestClassifier(bootstrap=True, ccp_alpha=0.0, class_weight=None,\n",
       "                       criterion='gini', max_depth=None, max_features='auto',\n",
       "                       max_leaf_nodes=None, max_samples=None,\n",
       "                       min_impurity_decrease=0.0, min_impurity_split=None,\n",
       "                       min_samples_leaf=5, min_samples_split=20,\n",
       "                       min_weight_fraction_leaf=0.0, n_estimators=200,\n",
       "                       n_jobs=None, oob_score=False, random_state=33, verbose=0,\n",
       "                       warm_start=False)"
      ]
     },
     "execution_count": 155,
     "metadata": {},
     "output_type": "execute_result"
    }
   ],
   "source": [
    "from sklearn.ensemble import RandomForestClassifier\n",
    "\n",
    "rf = RandomForestClassifier(n_estimators = 200,min_samples_split = 20,min_samples_leaf = 5,random_state = 33)\n",
    "rf.fit(xtrain,ytrain)"
   ]
  },
  {
   "cell_type": "code",
   "execution_count": 156,
   "metadata": {},
   "outputs": [],
   "source": [
    "ypred = rf.predict(xtest)"
   ]
  },
  {
   "cell_type": "code",
   "execution_count": 157,
   "metadata": {},
   "outputs": [
    {
     "name": "stdout",
     "output_type": "stream",
     "text": [
      "classification - report \n",
      "              precision    recall  f1-score   support\n",
      "\n",
      "           0       0.70      0.75      0.73       465\n",
      "           1       0.75      0.70      0.73       498\n",
      "\n",
      "    accuracy                           0.73       963\n",
      "   macro avg       0.73      0.73      0.73       963\n",
      "weighted avg       0.73      0.73      0.73       963\n",
      "\n",
      "that's great accuracy got increased !!!\n"
     ]
    }
   ],
   "source": [
    "print(\"classification - report \")\n",
    "print(classification_report(ytest,ypred))\n",
    "print(\"that's great accuracy got increased !!!\")"
   ]
  },
  {
   "cell_type": "code",
   "execution_count": 158,
   "metadata": {},
   "outputs": [
    {
     "name": "stdout",
     "output_type": "stream",
     "text": [
      "confusion matrix  - report \n",
      "[[350 115]\n",
      " [148 350]]\n"
     ]
    }
   ],
   "source": [
    "print(\"confusion matrix  - report \")\n",
    "print(confusion_matrix(ytest,ypred))"
   ]
  },
  {
   "cell_type": "code",
   "execution_count": 159,
   "metadata": {},
   "outputs": [
    {
     "name": "stdout",
     "output_type": "stream",
     "text": [
      "cost function \n",
      "9.432803889476617\n"
     ]
    }
   ],
   "source": [
    "print(\"cost function for Random Forest \")\n",
    "print(log_loss(ytest,ypred))"
   ]
  },
  {
   "cell_type": "markdown",
   "metadata": {},
   "source": [
    "# Thank You ,\n",
    "# Keep Learning"
   ]
  },
  {
   "cell_type": "code",
   "execution_count": null,
   "metadata": {},
   "outputs": [],
   "source": []
  }
 ],
 "metadata": {
  "colab": {
   "collapsed_sections": [],
   "name": "Back_order_ipynb",
   "provenance": []
  },
  "kernelspec": {
   "display_name": "Python 3",
   "language": "python",
   "name": "python3"
  },
  "language_info": {
   "codemirror_mode": {
    "name": "ipython",
    "version": 3
   },
   "file_extension": ".py",
   "mimetype": "text/x-python",
   "name": "python",
   "nbconvert_exporter": "python",
   "pygments_lexer": "ipython3",
   "version": "3.7.1"
  }
 },
 "nbformat": 4,
 "nbformat_minor": 1
}
