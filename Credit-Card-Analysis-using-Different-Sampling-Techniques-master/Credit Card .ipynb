{
 "cells": [
  {
   "cell_type": "markdown",
   "metadata": {},
   "source": [
    "Link to the DataSet : https://www.kaggle.com/mlg-ulb/creditcardfraud"
   ]
  },
  {
   "cell_type": "code",
   "execution_count": 1,
   "metadata": {},
   "outputs": [],
   "source": [
    "import pandas as pd\n",
    "import numpy  as np\n",
    "import seaborn as sns\n",
    "from sklearn.linear_model import LogisticRegression\n",
    "from sklearn.preprocessing import StandardScaler\n",
    "#from sklearn.ensemble import RandomForestClassifier\n",
    "from sklearn.model_selection import train_test_split\n",
    "from sklearn.metrics import accuracy_score,recall_score,precision_score,f1_score\n",
    "from sklearn.tree import DecisionTreeClassifier\n",
    "#from sklearn.utils import resample\n",
    "from imblearn.over_sampling import SMOTE"
   ]
  },
  {
   "cell_type": "code",
   "execution_count": 29,
   "metadata": {},
   "outputs": [],
   "source": [
    "data = pd.read_csv(\"C:/Users/admin/Downloads/creditcard.csv\")\n",
    "data = pd.DataFrame(data)"
   ]
  },
  {
   "cell_type": "code",
   "execution_count": 3,
   "metadata": {},
   "outputs": [
    {
     "data": {
      "text/plain": [
       "(50492, 31)"
      ]
     },
     "execution_count": 3,
     "metadata": {},
     "output_type": "execute_result"
    }
   ],
   "source": [
    "fraud     = data[data[\"Class\"]==1]\n",
    "not_fraud = data[data[\"Class\"]==0].iloc[:10000,:]\n",
    "data = pd.concat([not_fraud,fraud],axis = 0)\n",
    "data.shape"
   ]
  },
  {
   "cell_type": "code",
   "execution_count": 30,
   "metadata": {},
   "outputs": [
    {
     "data": {
      "text/plain": [
       "Index(['Time', 'V1', 'V2', 'V3', 'V4', 'V5', 'V6', 'V7', 'V8', 'V9', 'V10',\n",
       "       'V11', 'V12', 'V13', 'V14', 'V15', 'V16', 'V17', 'V18', 'V19', 'V20',\n",
       "       'V21', 'V22', 'V23', 'V24', 'V25', 'V26', 'V27', 'V28', 'Amount',\n",
       "       'Class'],\n",
       "      dtype='object')"
      ]
     },
     "execution_count": 30,
     "metadata": {},
     "output_type": "execute_result"
    }
   ],
   "source": [
    "data.columns"
   ]
  },
  {
   "cell_type": "code",
   "execution_count": 31,
   "metadata": {},
   "outputs": [
    {
     "data": {
      "text/html": [
       "<div>\n",
       "<style scoped>\n",
       "    .dataframe tbody tr th:only-of-type {\n",
       "        vertical-align: middle;\n",
       "    }\n",
       "\n",
       "    .dataframe tbody tr th {\n",
       "        vertical-align: top;\n",
       "    }\n",
       "\n",
       "    .dataframe thead th {\n",
       "        text-align: right;\n",
       "    }\n",
       "</style>\n",
       "<table border=\"1\" class=\"dataframe\">\n",
       "  <thead>\n",
       "    <tr style=\"text-align: right;\">\n",
       "      <th></th>\n",
       "      <th>Time</th>\n",
       "      <th>V1</th>\n",
       "      <th>V2</th>\n",
       "      <th>V3</th>\n",
       "      <th>V4</th>\n",
       "      <th>V5</th>\n",
       "      <th>V6</th>\n",
       "      <th>V7</th>\n",
       "      <th>V8</th>\n",
       "      <th>V9</th>\n",
       "      <th>...</th>\n",
       "      <th>V21</th>\n",
       "      <th>V22</th>\n",
       "      <th>V23</th>\n",
       "      <th>V24</th>\n",
       "      <th>V25</th>\n",
       "      <th>V26</th>\n",
       "      <th>V27</th>\n",
       "      <th>V28</th>\n",
       "      <th>Amount</th>\n",
       "      <th>Class</th>\n",
       "    </tr>\n",
       "  </thead>\n",
       "  <tbody>\n",
       "    <tr>\n",
       "      <th>0</th>\n",
       "      <td>0.0</td>\n",
       "      <td>-1.359807</td>\n",
       "      <td>-0.072781</td>\n",
       "      <td>2.536347</td>\n",
       "      <td>1.378155</td>\n",
       "      <td>-0.338321</td>\n",
       "      <td>0.462388</td>\n",
       "      <td>0.239599</td>\n",
       "      <td>0.098698</td>\n",
       "      <td>0.363787</td>\n",
       "      <td>...</td>\n",
       "      <td>-0.018307</td>\n",
       "      <td>0.277838</td>\n",
       "      <td>-0.110474</td>\n",
       "      <td>0.066928</td>\n",
       "      <td>0.128539</td>\n",
       "      <td>-0.189115</td>\n",
       "      <td>0.133558</td>\n",
       "      <td>-0.021053</td>\n",
       "      <td>149.62</td>\n",
       "      <td>0</td>\n",
       "    </tr>\n",
       "    <tr>\n",
       "      <th>1</th>\n",
       "      <td>0.0</td>\n",
       "      <td>1.191857</td>\n",
       "      <td>0.266151</td>\n",
       "      <td>0.166480</td>\n",
       "      <td>0.448154</td>\n",
       "      <td>0.060018</td>\n",
       "      <td>-0.082361</td>\n",
       "      <td>-0.078803</td>\n",
       "      <td>0.085102</td>\n",
       "      <td>-0.255425</td>\n",
       "      <td>...</td>\n",
       "      <td>-0.225775</td>\n",
       "      <td>-0.638672</td>\n",
       "      <td>0.101288</td>\n",
       "      <td>-0.339846</td>\n",
       "      <td>0.167170</td>\n",
       "      <td>0.125895</td>\n",
       "      <td>-0.008983</td>\n",
       "      <td>0.014724</td>\n",
       "      <td>2.69</td>\n",
       "      <td>0</td>\n",
       "    </tr>\n",
       "    <tr>\n",
       "      <th>2</th>\n",
       "      <td>1.0</td>\n",
       "      <td>-1.358354</td>\n",
       "      <td>-1.340163</td>\n",
       "      <td>1.773209</td>\n",
       "      <td>0.379780</td>\n",
       "      <td>-0.503198</td>\n",
       "      <td>1.800499</td>\n",
       "      <td>0.791461</td>\n",
       "      <td>0.247676</td>\n",
       "      <td>-1.514654</td>\n",
       "      <td>...</td>\n",
       "      <td>0.247998</td>\n",
       "      <td>0.771679</td>\n",
       "      <td>0.909412</td>\n",
       "      <td>-0.689281</td>\n",
       "      <td>-0.327642</td>\n",
       "      <td>-0.139097</td>\n",
       "      <td>-0.055353</td>\n",
       "      <td>-0.059752</td>\n",
       "      <td>378.66</td>\n",
       "      <td>0</td>\n",
       "    </tr>\n",
       "  </tbody>\n",
       "</table>\n",
       "<p>3 rows × 31 columns</p>\n",
       "</div>"
      ],
      "text/plain": [
       "   Time        V1        V2        V3        V4        V5        V6        V7  \\\n",
       "0   0.0 -1.359807 -0.072781  2.536347  1.378155 -0.338321  0.462388  0.239599   \n",
       "1   0.0  1.191857  0.266151  0.166480  0.448154  0.060018 -0.082361 -0.078803   \n",
       "2   1.0 -1.358354 -1.340163  1.773209  0.379780 -0.503198  1.800499  0.791461   \n",
       "\n",
       "         V8        V9  ...       V21       V22       V23       V24       V25  \\\n",
       "0  0.098698  0.363787  ... -0.018307  0.277838 -0.110474  0.066928  0.128539   \n",
       "1  0.085102 -0.255425  ... -0.225775 -0.638672  0.101288 -0.339846  0.167170   \n",
       "2  0.247676 -1.514654  ...  0.247998  0.771679  0.909412 -0.689281 -0.327642   \n",
       "\n",
       "        V26       V27       V28  Amount  Class  \n",
       "0 -0.189115  0.133558 -0.021053  149.62      0  \n",
       "1  0.125895 -0.008983  0.014724    2.69      0  \n",
       "2 -0.139097 -0.055353 -0.059752  378.66      0  \n",
       "\n",
       "[3 rows x 31 columns]"
      ]
     },
     "execution_count": 31,
     "metadata": {},
     "output_type": "execute_result"
    }
   ],
   "source": [
    "data.head(3)"
   ]
  },
  {
   "cell_type": "code",
   "execution_count": 32,
   "metadata": {},
   "outputs": [
    {
     "data": {
      "text/plain": [
       "<matplotlib.axes._subplots.AxesSubplot at 0x9fc4730>"
      ]
     },
     "execution_count": 32,
     "metadata": {},
     "output_type": "execute_result"
    },
    {
     "data": {
      "image/png": "[encoded data removed]",
      "text/plain": [
       "<Figure size 432x288 with 1 Axes>"
      ]
     },
     "metadata": {
      "needs_background": "light"
     },
     "output_type": "display_data"
    }
   ],
   "source": [
    "sns.countplot(data[\"Class\"])"
   ]
  },
  {
   "cell_type": "code",
   "execution_count": 33,
   "metadata": {},
   "outputs": [],
   "source": [
    "# Dropping Time Feature\n",
    "\n",
    "data.drop(\"Time\",axis = 1,inplace = True)"
   ]
  },
  {
   "cell_type": "code",
   "execution_count": 34,
   "metadata": {},
   "outputs": [],
   "source": [
    "# Applying StandaredScaler to Amount Feature\n",
    "\n",
    "sc = StandardScaler()\n",
    "data[\"Amount\"] = sc.fit_transform(np.array(data[\"Amount\"]).reshape(-1,1))"
   ]
  },
  {
   "cell_type": "code",
   "execution_count": 35,
   "metadata": {},
   "outputs": [],
   "source": [
    "# Creating Empty Dataframe \n",
    "\n",
    "result = pd.DataFrame({\"Algorithms\":[\"LogisticReg\",\"LogisticReg\",\"LogisticReg\",\"LogisticReg\",\"DecisionTreeClf\",\"DecisionTreeClf\",\"DecisionTreeClf\",\"DecisionTreeClf\"],\n",
    "                       \"Techniques\":[\"imbalanced\",\"oversample\",\"undersample\",\"smote\",\"imbalanced\",\"oversample\",\"undersample\",\"smote\"],\n",
    "                       \"Accuracy\"  : [0,0,0,0,0,0,0,0], \"Precision\" : [0,0,0,0,0,0,0,0] ,\"Recall\" : [0,0,0,0,0,0,0,0],\n",
    "                       \"F1-Score\"  : [0,0,0,0,0,0,0,0]\n",
    "                       \n",
    "                      })"
   ]
  },
  {
   "cell_type": "code",
   "execution_count": 36,
   "metadata": {},
   "outputs": [
    {
     "data": {
      "text/html": [
       "<div>\n",
       "<style scoped>\n",
       "    .dataframe tbody tr th:only-of-type {\n",
       "        vertical-align: middle;\n",
       "    }\n",
       "\n",
       "    .dataframe tbody tr th {\n",
       "        vertical-align: top;\n",
       "    }\n",
       "\n",
       "    .dataframe thead th {\n",
       "        text-align: right;\n",
       "    }\n",
       "</style>\n",
       "<table border=\"1\" class=\"dataframe\">\n",
       "  <thead>\n",
       "    <tr style=\"text-align: right;\">\n",
       "      <th></th>\n",
       "      <th>Algorithms</th>\n",
       "      <th>Techniques</th>\n",
       "      <th>Accuracy</th>\n",
       "      <th>Precision</th>\n",
       "      <th>Recall</th>\n",
       "      <th>F1-Score</th>\n",
       "    </tr>\n",
       "  </thead>\n",
       "  <tbody>\n",
       "    <tr>\n",
       "      <th>0</th>\n",
       "      <td>LogisticReg</td>\n",
       "      <td>imbalanced</td>\n",
       "      <td>0</td>\n",
       "      <td>0</td>\n",
       "      <td>0</td>\n",
       "      <td>0</td>\n",
       "    </tr>\n",
       "    <tr>\n",
       "      <th>1</th>\n",
       "      <td>LogisticReg</td>\n",
       "      <td>oversample</td>\n",
       "      <td>0</td>\n",
       "      <td>0</td>\n",
       "      <td>0</td>\n",
       "      <td>0</td>\n",
       "    </tr>\n",
       "    <tr>\n",
       "      <th>2</th>\n",
       "      <td>LogisticReg</td>\n",
       "      <td>undersample</td>\n",
       "      <td>0</td>\n",
       "      <td>0</td>\n",
       "      <td>0</td>\n",
       "      <td>0</td>\n",
       "    </tr>\n",
       "    <tr>\n",
       "      <th>3</th>\n",
       "      <td>LogisticReg</td>\n",
       "      <td>smote</td>\n",
       "      <td>0</td>\n",
       "      <td>0</td>\n",
       "      <td>0</td>\n",
       "      <td>0</td>\n",
       "    </tr>\n",
       "    <tr>\n",
       "      <th>4</th>\n",
       "      <td>DecisionTreeClf</td>\n",
       "      <td>imbalanced</td>\n",
       "      <td>0</td>\n",
       "      <td>0</td>\n",
       "      <td>0</td>\n",
       "      <td>0</td>\n",
       "    </tr>\n",
       "    <tr>\n",
       "      <th>5</th>\n",
       "      <td>DecisionTreeClf</td>\n",
       "      <td>oversample</td>\n",
       "      <td>0</td>\n",
       "      <td>0</td>\n",
       "      <td>0</td>\n",
       "      <td>0</td>\n",
       "    </tr>\n",
       "    <tr>\n",
       "      <th>6</th>\n",
       "      <td>DecisionTreeClf</td>\n",
       "      <td>undersample</td>\n",
       "      <td>0</td>\n",
       "      <td>0</td>\n",
       "      <td>0</td>\n",
       "      <td>0</td>\n",
       "    </tr>\n",
       "    <tr>\n",
       "      <th>7</th>\n",
       "      <td>DecisionTreeClf</td>\n",
       "      <td>smote</td>\n",
       "      <td>0</td>\n",
       "      <td>0</td>\n",
       "      <td>0</td>\n",
       "      <td>0</td>\n",
       "    </tr>\n",
       "  </tbody>\n",
       "</table>\n",
       "</div>"
      ],
      "text/plain": [
       "        Algorithms   Techniques  Accuracy  Precision  Recall  F1-Score\n",
       "0      LogisticReg   imbalanced         0          0       0         0\n",
       "1      LogisticReg   oversample         0          0       0         0\n",
       "2      LogisticReg  undersample         0          0       0         0\n",
       "3      LogisticReg        smote         0          0       0         0\n",
       "4  DecisionTreeClf   imbalanced         0          0       0         0\n",
       "5  DecisionTreeClf   oversample         0          0       0         0\n",
       "6  DecisionTreeClf  undersample         0          0       0         0\n",
       "7  DecisionTreeClf        smote         0          0       0         0"
      ]
     },
     "execution_count": 36,
     "metadata": {},
     "output_type": "execute_result"
    }
   ],
   "source": [
    "result"
   ]
  },
  {
   "cell_type": "markdown",
   "metadata": {},
   "source": [
    "## 1. Unbalanced or Imbalanced : Means that one of the  class value of a target column out number's the other value by a large Proportion.\n",
    "\n",
    "              eg : 100000 Non Fraudulent Transaction and 400 Fraud Fraudulent Transactions \n",
    "            "
   ]
  },
  {
   "cell_type": "markdown",
   "metadata": {},
   "source": [
    "## 2. oversampling : Means Replicating the Minority class sample's. \n",
    "    eg : in our case minority class 400 Fraud Fraudulent Transactions were replicated to make it to equal count as Majority class i.e 100000 Non Fraudulent Transaction ."
   ]
  },
  {
   "cell_type": "markdown",
   "metadata": {},
   "source": [
    "## 3 . undersampling : Means downsampling or deleting the rows of Majority Class Sample's .\n",
    "    \n",
    "    eg : in our case Majority class 100000 Non Fraudulent Transaction were down sampled to equal count as Minority class sample \n",
    "         i.e 400 Fraud Fraudulent Transactions ."
   ]
  },
  {
   "cell_type": "markdown",
   "metadata": {},
   "source": [
    "## 4 . smote : (Synthetic Oversampling Technique ) again its's one of the oversampling technique's .\n",
    "            which works on the concept of KNN algo."
   ]
  },
  {
   "cell_type": "code",
   "execution_count": 37,
   "metadata": {},
   "outputs": [],
   "source": [
    "lrcnt   = 0\n",
    "dectree = 4\n",
    "#cnt = 0"
   ]
  },
  {
   "cell_type": "code",
   "execution_count": 38,
   "metadata": {},
   "outputs": [],
   "source": [
    "for i in range(4):\n",
    "    x = data.drop(\"Class\",axis = 1).copy()\n",
    "    y = data[\"Class\"].copy()\n",
    "    xtrain,xtest,ytrain,ytest = train_test_split(x,y,test_size = 0.3,random_state  = 33)\n",
    "    \n",
    "    if(i==0):\n",
    "        pass\n",
    "    \n",
    "    \n",
    "    elif((i==1) or (i==2)):\n",
    "        \n",
    "         #  trainig instances only we apply any of the sampling techniques\n",
    "        \n",
    "        temp_df = pd.concat([xtrain,ytrain],axis = 1)\n",
    "        fraud     = temp_df[temp_df[\"Class\"]==1]\n",
    "        not_fraud = temp_df[temp_df[\"Class\"]==0]\n",
    "            \n",
    "        if(i == 1):\n",
    "                              # Let's do oversampling of minority class i.e 1 in our case\n",
    "                \n",
    "            over_sampled = fraud.sample(n = len(not_fraud),replace  = True)\n",
    "            data1 = over_sampled\n",
    "            data2 = not_fraud\n",
    "              \n",
    "        else:\n",
    "        # Let's do undersampling of Majority class i.e 0 in our case\n",
    "          \n",
    "            under_sample = not_fraud.sample(n = len(fraud),replace = True)\n",
    "            data1 = under_sample\n",
    "            data2 = fraud\n",
    "                    \n",
    "                    \n",
    "        dnew = pd.concat([data1,data2],axis = 0)\n",
    "        xtrain = dnew.drop(\"Class\",axis = 1)\n",
    "        ytrain = dnew[\"Class\"]\n",
    "        \n",
    "                    \n",
    "                    \n",
    "    else:\n",
    "        # Applying SMOTE Algorithm (Synthetic Minority Oversampling Technique's . )\n",
    "        sm = SMOTE(sampling_strategy = 1.0,random_state = 33,n_jobs = -1)\n",
    "        xtrain,ytrain = sm.fit_sample(xtrain,ytrain)\n",
    "    \n",
    "    \n",
    "    \n",
    "    for j in range(2):\n",
    "        if(j==0):\n",
    "            clf = LogisticRegression()\n",
    "            cnt = lrcnt\n",
    "            lrcnt=lrcnt+1\n",
    "            \n",
    "            \n",
    "        else:\n",
    "            clf = DecisionTreeClassifier()\n",
    "            cnt = dectree\n",
    "            dectree=dectree+1\n",
    "            \n",
    "        clf.fit(xtrain,ytrain)\n",
    "        ypred = clf.predict(xtest)\n",
    "            \n",
    "        result.iloc[cnt,2] = round(100*accuracy_score(ytest,ypred),2)\n",
    "        result.iloc[cnt,3] = round(100*precision_score(ytest,ypred),2)\n",
    "        result.iloc[cnt,4] = round(100*recall_score(ytest,ypred),2)\n",
    "        result.iloc[cnt,5] = round(100*f1_score(ytest,ypred),2)\n",
    "        \n",
    "            \n",
    "            \n",
    "            "
   ]
  },
  {
   "cell_type": "code",
   "execution_count": 39,
   "metadata": {},
   "outputs": [
    {
     "data": {
      "text/html": [
       "<div>\n",
       "<style scoped>\n",
       "    .dataframe tbody tr th:only-of-type {\n",
       "        vertical-align: middle;\n",
       "    }\n",
       "\n",
       "    .dataframe tbody tr th {\n",
       "        vertical-align: top;\n",
       "    }\n",
       "\n",
       "    .dataframe thead th {\n",
       "        text-align: right;\n",
       "    }\n",
       "</style>\n",
       "<table border=\"1\" class=\"dataframe\">\n",
       "  <thead>\n",
       "    <tr style=\"text-align: right;\">\n",
       "      <th></th>\n",
       "      <th>Algorithms</th>\n",
       "      <th>Techniques</th>\n",
       "      <th>Accuracy</th>\n",
       "      <th>Precision</th>\n",
       "      <th>Recall</th>\n",
       "      <th>F1-Score</th>\n",
       "    </tr>\n",
       "  </thead>\n",
       "  <tbody>\n",
       "    <tr>\n",
       "      <th>0</th>\n",
       "      <td>LogisticReg</td>\n",
       "      <td>imbalanced</td>\n",
       "      <td>99.91</td>\n",
       "      <td>84.55</td>\n",
       "      <td>61.59</td>\n",
       "      <td>71.26</td>\n",
       "    </tr>\n",
       "    <tr>\n",
       "      <th>1</th>\n",
       "      <td>LogisticReg</td>\n",
       "      <td>oversample</td>\n",
       "      <td>97.68</td>\n",
       "      <td>6.42</td>\n",
       "      <td>89.40</td>\n",
       "      <td>11.98</td>\n",
       "    </tr>\n",
       "    <tr>\n",
       "      <th>2</th>\n",
       "      <td>LogisticReg</td>\n",
       "      <td>undersample</td>\n",
       "      <td>97.37</td>\n",
       "      <td>5.63</td>\n",
       "      <td>88.08</td>\n",
       "      <td>10.59</td>\n",
       "    </tr>\n",
       "    <tr>\n",
       "      <th>3</th>\n",
       "      <td>LogisticReg</td>\n",
       "      <td>smote</td>\n",
       "      <td>97.46</td>\n",
       "      <td>5.90</td>\n",
       "      <td>89.40</td>\n",
       "      <td>11.06</td>\n",
       "    </tr>\n",
       "    <tr>\n",
       "      <th>4</th>\n",
       "      <td>DecisionTreeClf</td>\n",
       "      <td>imbalanced</td>\n",
       "      <td>99.91</td>\n",
       "      <td>74.67</td>\n",
       "      <td>74.17</td>\n",
       "      <td>74.42</td>\n",
       "    </tr>\n",
       "    <tr>\n",
       "      <th>5</th>\n",
       "      <td>DecisionTreeClf</td>\n",
       "      <td>oversample</td>\n",
       "      <td>99.91</td>\n",
       "      <td>81.15</td>\n",
       "      <td>65.56</td>\n",
       "      <td>72.53</td>\n",
       "    </tr>\n",
       "    <tr>\n",
       "      <th>6</th>\n",
       "      <td>DecisionTreeClf</td>\n",
       "      <td>undersample</td>\n",
       "      <td>91.24</td>\n",
       "      <td>1.76</td>\n",
       "      <td>88.74</td>\n",
       "      <td>3.46</td>\n",
       "    </tr>\n",
       "    <tr>\n",
       "      <th>7</th>\n",
       "      <td>DecisionTreeClf</td>\n",
       "      <td>smote</td>\n",
       "      <td>99.74</td>\n",
       "      <td>37.15</td>\n",
       "      <td>70.86</td>\n",
       "      <td>48.75</td>\n",
       "    </tr>\n",
       "  </tbody>\n",
       "</table>\n",
       "</div>"
      ],
      "text/plain": [
       "        Algorithms   Techniques  Accuracy  Precision  Recall  F1-Score\n",
       "0      LogisticReg   imbalanced     99.91      84.55   61.59     71.26\n",
       "1      LogisticReg   oversample     97.68       6.42   89.40     11.98\n",
       "2      LogisticReg  undersample     97.37       5.63   88.08     10.59\n",
       "3      LogisticReg        smote     97.46       5.90   89.40     11.06\n",
       "4  DecisionTreeClf   imbalanced     99.91      74.67   74.17     74.42\n",
       "5  DecisionTreeClf   oversample     99.91      81.15   65.56     72.53\n",
       "6  DecisionTreeClf  undersample     91.24       1.76   88.74      3.46\n",
       "7  DecisionTreeClf        smote     99.74      37.15   70.86     48.75"
      ]
     },
     "execution_count": 39,
     "metadata": {},
     "output_type": "execute_result"
    }
   ],
   "source": [
    "result"
   ]
  },
  {
   "cell_type": "code",
   "execution_count": 50,
   "metadata": {},
   "outputs": [],
   "source": [
    "import matplotlib.pyplot as plt"
   ]
  },
  {
   "cell_type": "code",
   "execution_count": 53,
   "metadata": {},
   "outputs": [
    {
     "data": {
      "text/plain": [
       "<matplotlib.axes._subplots.AxesSubplot at 0xab6e0b0>"
      ]
     },
     "execution_count": 53,
     "metadata": {},
     "output_type": "execute_result"
    },
    {
     "data": {
      "image/png": "[encoded data removed]",
      "text/plain": [
       "<Figure size 1296x432 with 2 Axes>"
      ]
     },
     "metadata": {},
     "output_type": "display_data"
    }
   ],
   "source": [
    "# Let's See Visually\n",
    "\n",
    "fig,axes = plt.subplots(nrows = 1,ncols = 2,figsize = (18,6))\n",
    "res = result[[\"Techniques\",\"Accuracy\",\"Precision\",\"Recall\",\"F1-Score\"]]\n",
    "\n",
    "res.iloc[:4].plot(x = \"Techniques\",kind = 'line',ax = axes[0],legend = True,grid = True,title = \"LogisticRegression\")\n",
    "res.iloc[4:].plot(x = \"Techniques\",kind = 'line',ax = axes[1],legend = True,grid = True,title = \"DecisionTreeClassifier\")"
   ]
  },
  {
   "cell_type": "code",
   "execution_count": null,
   "metadata": {},
   "outputs": [],
   "source": []
  }
 ],
 "metadata": {
  "kernelspec": {
   "display_name": "Python 3",
   "language": "python",
   "name": "python3"
  },
  "language_info": {
   "codemirror_mode": {
    "name": "ipython",
    "version": 3
   },
   "file_extension": ".py",
   "mimetype": "text/x-python",
   "name": "python",
   "nbconvert_exporter": "python",
   "pygments_lexer": "ipython3",
   "version": "3.7.1"
  }
 },
 "nbformat": 4,
 "nbformat_minor": 2
}
