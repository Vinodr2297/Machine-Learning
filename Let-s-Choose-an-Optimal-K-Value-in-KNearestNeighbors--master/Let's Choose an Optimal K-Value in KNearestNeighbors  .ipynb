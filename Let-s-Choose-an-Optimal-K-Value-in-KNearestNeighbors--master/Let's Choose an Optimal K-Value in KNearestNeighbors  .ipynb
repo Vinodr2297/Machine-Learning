{
 "cells": [
  {
   "cell_type": "markdown",
   "metadata": {},
   "source": [
    "<font color=\"red\" size=4px> KNearestNeighborsClassifiers For Iris Classification  </font>"
   ]
  },
  {
   "cell_type": "code",
   "execution_count": 115,
   "metadata": {},
   "outputs": [],
   "source": [
    "import pandas as pd\n",
    "import matplotlib.pyplot as plt\n",
    "plt.style.use('fivethirtyeight')\n",
    "import seaborn as sns"
   ]
  },
  {
   "cell_type": "code",
   "execution_count": 116,
   "metadata": {},
   "outputs": [],
   "source": [
    "iris = pd.read_csv('C:/Users/user/Desktop/Iris.csv')\n",
    "iris = iris.iloc[:,1:]\n",
    "iris.columns = [i.lower() for i in iris.columns]"
   ]
  },
  {
   "cell_type": "code",
   "execution_count": 117,
   "metadata": {},
   "outputs": [
    {
     "name": "stdout",
     "output_type": "stream",
     "text": [
      "Targer Feature Unique Value :  ['Iris-setosa' 'Iris-versicolor' 'Iris-virginica']\n"
     ]
    },
    {
     "data": {
      "text/html": [
       "<div>\n",
       "<style scoped>\n",
       "    .dataframe tbody tr th:only-of-type {\n",
       "        vertical-align: middle;\n",
       "    }\n",
       "\n",
       "    .dataframe tbody tr th {\n",
       "        vertical-align: top;\n",
       "    }\n",
       "\n",
       "    .dataframe thead th {\n",
       "        text-align: right;\n",
       "    }\n",
       "</style>\n",
       "<table border=\"1\" class=\"dataframe\">\n",
       "  <thead>\n",
       "    <tr style=\"text-align: right;\">\n",
       "      <th></th>\n",
       "      <th>sepallengthcm</th>\n",
       "      <th>sepalwidthcm</th>\n",
       "      <th>petallengthcm</th>\n",
       "      <th>petalwidthcm</th>\n",
       "      <th>species</th>\n",
       "    </tr>\n",
       "  </thead>\n",
       "  <tbody>\n",
       "    <tr>\n",
       "      <th>0</th>\n",
       "      <td>5.1</td>\n",
       "      <td>3.5</td>\n",
       "      <td>1.4</td>\n",
       "      <td>0.2</td>\n",
       "      <td>Iris-setosa</td>\n",
       "    </tr>\n",
       "    <tr>\n",
       "      <th>1</th>\n",
       "      <td>4.9</td>\n",
       "      <td>3.0</td>\n",
       "      <td>1.4</td>\n",
       "      <td>0.2</td>\n",
       "      <td>Iris-setosa</td>\n",
       "    </tr>\n",
       "    <tr>\n",
       "      <th>2</th>\n",
       "      <td>4.7</td>\n",
       "      <td>3.2</td>\n",
       "      <td>1.3</td>\n",
       "      <td>0.2</td>\n",
       "      <td>Iris-setosa</td>\n",
       "    </tr>\n",
       "  </tbody>\n",
       "</table>\n",
       "</div>"
      ],
      "text/plain": [
       "   sepallengthcm  sepalwidthcm  petallengthcm  petalwidthcm      species\n",
       "0            5.1           3.5            1.4           0.2  Iris-setosa\n",
       "1            4.9           3.0            1.4           0.2  Iris-setosa\n",
       "2            4.7           3.2            1.3           0.2  Iris-setosa"
      ]
     },
     "execution_count": 117,
     "metadata": {},
     "output_type": "execute_result"
    }
   ],
   "source": [
    "print(\"Targer Feature Unique Value : \",iris['species'].unique())\n",
    "iris.head(3)"
   ]
  },
  {
   "cell_type": "code",
   "execution_count": 118,
   "metadata": {},
   "outputs": [
    {
     "data": {
      "text/html": [
       "<div>\n",
       "<style scoped>\n",
       "    .dataframe tbody tr th:only-of-type {\n",
       "        vertical-align: middle;\n",
       "    }\n",
       "\n",
       "    .dataframe tbody tr th {\n",
       "        vertical-align: top;\n",
       "    }\n",
       "\n",
       "    .dataframe thead th {\n",
       "        text-align: right;\n",
       "    }\n",
       "</style>\n",
       "<table border=\"1\" class=\"dataframe\">\n",
       "  <thead>\n",
       "    <tr style=\"text-align: right;\">\n",
       "      <th></th>\n",
       "      <th>sepallengthcm</th>\n",
       "      <th>sepalwidthcm</th>\n",
       "      <th>petallengthcm</th>\n",
       "      <th>petalwidthcm</th>\n",
       "      <th>species</th>\n",
       "      <th>target</th>\n",
       "    </tr>\n",
       "  </thead>\n",
       "  <tbody>\n",
       "    <tr>\n",
       "      <th>0</th>\n",
       "      <td>5.1</td>\n",
       "      <td>3.5</td>\n",
       "      <td>1.4</td>\n",
       "      <td>0.2</td>\n",
       "      <td>Iris-setosa</td>\n",
       "      <td>1</td>\n",
       "    </tr>\n",
       "    <tr>\n",
       "      <th>1</th>\n",
       "      <td>4.9</td>\n",
       "      <td>3.0</td>\n",
       "      <td>1.4</td>\n",
       "      <td>0.2</td>\n",
       "      <td>Iris-setosa</td>\n",
       "      <td>1</td>\n",
       "    </tr>\n",
       "    <tr>\n",
       "      <th>2</th>\n",
       "      <td>4.7</td>\n",
       "      <td>3.2</td>\n",
       "      <td>1.3</td>\n",
       "      <td>0.2</td>\n",
       "      <td>Iris-setosa</td>\n",
       "      <td>1</td>\n",
       "    </tr>\n",
       "  </tbody>\n",
       "</table>\n",
       "</div>"
      ],
      "text/plain": [
       "   sepallengthcm  sepalwidthcm  petallengthcm  petalwidthcm      species  \\\n",
       "0            5.1           3.5            1.4           0.2  Iris-setosa   \n",
       "1            4.9           3.0            1.4           0.2  Iris-setosa   \n",
       "2            4.7           3.2            1.3           0.2  Iris-setosa   \n",
       "\n",
       "   target  \n",
       "0       1  \n",
       "1       1  \n",
       "2       1  "
      ]
     },
     "execution_count": 118,
     "metadata": {},
     "output_type": "execute_result"
    }
   ],
   "source": [
    "iris['target'] = iris['species'].map({\"Iris-setosa\":1,\"Iris-versicolor\":2,\"Iris-virginica\":3})\n",
    "iris.head(3)"
   ]
  },
  {
   "cell_type": "code",
   "execution_count": 119,
   "metadata": {},
   "outputs": [
    {
     "data": {
      "text/html": [
       "<div>\n",
       "<style scoped>\n",
       "    .dataframe tbody tr th:only-of-type {\n",
       "        vertical-align: middle;\n",
       "    }\n",
       "\n",
       "    .dataframe tbody tr th {\n",
       "        vertical-align: top;\n",
       "    }\n",
       "\n",
       "    .dataframe thead th {\n",
       "        text-align: right;\n",
       "    }\n",
       "</style>\n",
       "<table border=\"1\" class=\"dataframe\">\n",
       "  <thead>\n",
       "    <tr style=\"text-align: right;\">\n",
       "      <th></th>\n",
       "      <th>sepallengthcm</th>\n",
       "      <th>sepalwidthcm</th>\n",
       "      <th>petallengthcm</th>\n",
       "      <th>petalwidthcm</th>\n",
       "      <th>target</th>\n",
       "    </tr>\n",
       "  </thead>\n",
       "  <tbody>\n",
       "    <tr>\n",
       "      <th>0</th>\n",
       "      <td>5.1</td>\n",
       "      <td>3.5</td>\n",
       "      <td>1.4</td>\n",
       "      <td>0.2</td>\n",
       "      <td>1</td>\n",
       "    </tr>\n",
       "    <tr>\n",
       "      <th>1</th>\n",
       "      <td>4.9</td>\n",
       "      <td>3.0</td>\n",
       "      <td>1.4</td>\n",
       "      <td>0.2</td>\n",
       "      <td>1</td>\n",
       "    </tr>\n",
       "    <tr>\n",
       "      <th>2</th>\n",
       "      <td>4.7</td>\n",
       "      <td>3.2</td>\n",
       "      <td>1.3</td>\n",
       "      <td>0.2</td>\n",
       "      <td>1</td>\n",
       "    </tr>\n",
       "  </tbody>\n",
       "</table>\n",
       "</div>"
      ],
      "text/plain": [
       "   sepallengthcm  sepalwidthcm  petallengthcm  petalwidthcm  target\n",
       "0            5.1           3.5            1.4           0.2       1\n",
       "1            4.9           3.0            1.4           0.2       1\n",
       "2            4.7           3.2            1.3           0.2       1"
      ]
     },
     "execution_count": 119,
     "metadata": {},
     "output_type": "execute_result"
    }
   ],
   "source": [
    "# drop species feature from our datasets . \n",
    "iris.drop(['species'],axis = 1,inplace = True)\n",
    "iris.head(3)"
   ]
  },
  {
   "cell_type": "code",
   "execution_count": 120,
   "metadata": {},
   "outputs": [
    {
     "data": {
      "image/png": "[encoded data removed]",
      "text/plain": [
       "<Figure size 720x288 with 2 Axes>"
      ]
     },
     "metadata": {},
     "output_type": "display_data"
    }
   ],
   "source": [
    "sns.heatmap(iris.corr(),annot = True)\n",
    "plt.show()\n",
    "\n",
    "# we can see there is high correlation between \n",
    "# 1 . target and sepallengthcm\n",
    "# 2 . target and petallength\n",
    "# 3 . target and petalwidth "
   ]
  },
  {
   "cell_type": "markdown",
   "metadata": {},
   "source": [
    "# I'll Use KNearestNeighbors for classifying samples  "
   ]
  },
  {
   "cell_type": "code",
   "execution_count": 121,
   "metadata": {},
   "outputs": [],
   "source": [
    "x = iris.loc[:,iris.columns != \"target\"]\n",
    "y = iris['target']"
   ]
  },
  {
   "cell_type": "code",
   "execution_count": 122,
   "metadata": {},
   "outputs": [],
   "source": [
    "# import knnclassifier from sklearn .\n",
    "from sklearn.neighbors import KNeighborsClassifier\n",
    "# performing cross validation in order to avoid overfitting and underfitting  .\n",
    "from sklearn.model_selection import cross_val_score\n",
    "# classification matrices . \n",
    "from sklearn.metrics import f1_score,accuracy_score,log_loss\n",
    "# for splitting train and test sets\n",
    "from sklearn.model_selection import train_test_split\n",
    "xtrain,xtest,ytrain,ytest = train_test_split(x,y,test_size = 0.3,random_state = 43)"
   ]
  },
  {
   "cell_type": "code",
   "execution_count": 123,
   "metadata": {},
   "outputs": [
    {
     "name": "stdout",
     "output_type": "stream",
     "text": [
      "For Train Data Accuracy :  0.9428571428571428\n",
      "For Test  Data Accuracy :  1.0\n"
     ]
    }
   ],
   "source": [
    "# n_neighbors or  k must be negative value . \n",
    "knn = KNeighborsClassifier(n_neighbors = 3)\n",
    "knn.fit(xtrain,ytrain)\n",
    "ytrain_pred = knn.predict(xtrain)\n",
    "ypred = knn.predict(xtest)\n",
    "print(\"For Train Data Accuracy : \",accuracy_score(ytrain,ytrain_pred))\n",
    "print(\"For Test  Data Accuracy : \",accuracy_score(ytest,ypred))"
   ]
  },
  {
   "cell_type": "code",
   "execution_count": 124,
   "metadata": {},
   "outputs": [
    {
     "data": {
      "text/plain": [
       "2    17\n",
       "1    15\n",
       "3    13\n",
       "Name: target, dtype: int64"
      ]
     },
     "execution_count": 124,
     "metadata": {},
     "output_type": "execute_result"
    }
   ],
   "source": [
    "# Let's see null accuracy of our model to check whethet our model performing well or not  . \n",
    "ytest.value_counts()"
   ]
  },
  {
   "cell_type": "code",
   "execution_count": 125,
   "metadata": {},
   "outputs": [],
   "source": [
    "# ['Iris-setosa' 'Iris-versicolor' 'Iris-virginica']\n",
    "# d = {\"Iris-setosa\":1,\"Iris-versicolor\":2,\"Iris-virginica\":3}\n",
    "#total = 17+15+13\n",
    "#Iris_setosa     = 15/total\n",
    "#Iris_versicolor = 17/total\n",
    "#Iris_virginica  = 13/total\n",
    "#print(\"Iris_setosa : \",Iris_setosa)\n",
    "#print(\"Iris_versicolor :\",Iris_versicolor)\n",
    "#print(\"Iris_virginica  : \",Iris_virginica)"
   ]
  },
  {
   "cell_type": "markdown",
   "metadata": {},
   "source": [
    "# I'm going to apply KFoldCV to find optimal K - Value . "
   ]
  },
  {
   "cell_type": "code",
   "execution_count": 126,
   "metadata": {},
   "outputs": [],
   "source": [
    "x = iris.loc[:,iris.columns != \"target\"]\n",
    "y = iris['target']"
   ]
  },
  {
   "cell_type": "code",
   "execution_count": 127,
   "metadata": {},
   "outputs": [],
   "source": [
    "Accuracy_score = [] # for keep Tracking of Accuracy_score !\n",
    "k_values = [i for i in range(5,30,2)] # as i mentioned earlier only odd values for K .\n",
    "\n",
    "for i in k_values:\n",
    "    knn = KNeighborsClassifier(i)\n",
    "    score = cross_val_score(knn,x,y,scoring = \"accuracy\",cv = 10)\n",
    "    Accuracy_score.append(score.mean())"
   ]
  },
  {
   "cell_type": "markdown",
   "metadata": {},
   "source": [
    "## Let's Plot the Graph \n",
    "### accuracy_score v/s KValues "
   ]
  },
  {
   "cell_type": "code",
   "execution_count": 128,
   "metadata": {},
   "outputs": [
    {
     "data": {
      "image/png": "[encoded data removed]",
      "text/plain": [
       "<Figure size 720x288 with 1 Axes>"
      ]
     },
     "metadata": {},
     "output_type": "display_data"
    }
   ],
   "source": [
    "plt.rcParams['figure.figsize'] = (10,4)\n",
    "plt.plot(range(5,30,2),Accuracy_score,linestyle = \"dashed\",marker = \"o\",markerfacecolor = \"r\",markersize=8 )\n",
    "plt.title(\"accuracy_score v/s KValues \")\n",
    "plt.xlabel(\"KValues - N umber of Nearest Neighbors \")\n",
    "plt.ylabel(\"accuracy_score\")\n",
    "plt.show()"
   ]
  },
  {
   "cell_type": "code",
   "execution_count": 129,
   "metadata": {},
   "outputs": [],
   "source": [
    "# from the above graph we can conclude that as k-value increase's accuracy increase's intially then it's decreasing completely  .\n",
    "# note : accuracy is good when k =  13 ,so i'll use 13 as my Optimal K_value to Build Model .  "
   ]
  },
  {
   "cell_type": "code",
   "execution_count": 130,
   "metadata": {},
   "outputs": [
    {
     "name": "stdout",
     "output_type": "stream",
     "text": [
      "For Train Data Accuracy :  0.9714285714285714\n",
      "For Test  Data Accuracy :  0.9333333333333333\n"
     ]
    }
   ],
   "source": [
    "# n_neighbors or  k must be negative value . \n",
    "knn = KNeighborsClassifier(n_neighbors = 13)\n",
    "knn.fit(xtrain,ytrain)\n",
    "ytrain_pred = knn.predict(xtrain)\n",
    "ypred = knn.predict(xtest)\n",
    "print(\"For Train Data Accuracy : \",accuracy_score(ytrain,ytrain_pred))\n",
    "print(\"For Test  Data Accuracy : \",accuracy_score(ytest,ypred))\n",
    "# Model is slightly over fitted for kvalue = 13 "
   ]
  },
  {
   "cell_type": "code",
   "execution_count": 131,
   "metadata": {},
   "outputs": [
    {
     "name": "stdout",
     "output_type": "stream",
     "text": [
      "For Train Data Accuracy :  0.9714285714285714\n",
      "For Test  Data Accuracy :  0.9333333333333333\n"
     ]
    }
   ],
   "source": [
    "# when k = 14 \n",
    "knn = KNeighborsClassifier(n_neighbors = 14)\n",
    "knn.fit(xtrain,ytrain)\n",
    "ytrain_pred = knn.predict(xtrain)\n",
    "ypred = knn.predict(xtest)\n",
    "print(\"For Train Data Accuracy : \",accuracy_score(ytrain,ytrain_pred))\n",
    "print(\"For Test  Data Accuracy : \",accuracy_score(ytest,ypred))\n",
    "# Model is still  over fitted for kvalue = 14 "
   ]
  },
  {
   "cell_type": "code",
   "execution_count": 132,
   "metadata": {},
   "outputs": [
    {
     "name": "stdout",
     "output_type": "stream",
     "text": [
      "Now it's Wow  : \n",
      "\n",
      "For Train Data Accuracy :  0.9809523809523809\n",
      "For Test  Data Accuracy :  0.9777777777777777\n"
     ]
    }
   ],
   "source": [
    "# when k = 15 \n",
    "knn = KNeighborsClassifier(n_neighbors = 15)\n",
    "knn.fit(xtrain,ytrain)\n",
    "ytrain_pred = knn.predict(xtrain)\n",
    "ypred = knn.predict(xtest)\n",
    "print(\"Now it's Wow  : \\n\")\n",
    "print(\"For Train Data Accuracy : \",accuracy_score(ytrain,ytrain_pred))\n",
    "print(\"For Test  Data Accuracy : \",accuracy_score(ytest,ypred))\n"
   ]
  },
  {
   "cell_type": "code",
   "execution_count": null,
   "metadata": {},
   "outputs": [],
   "source": []
  }
 ],
 "metadata": {
  "kernelspec": {
   "display_name": "Python 3",
   "language": "python",
   "name": "python3"
  },
  "language_info": {
   "codemirror_mode": {
    "name": "ipython",
    "version": 3
   },
   "file_extension": ".py",
   "mimetype": "text/x-python",
   "name": "python",
   "nbconvert_exporter": "python",
   "pygments_lexer": "ipython3",
   "version": "3.8.3"
  }
 },
 "nbformat": 4,
 "nbformat_minor": 4
}
